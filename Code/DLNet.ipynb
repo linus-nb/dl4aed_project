{
  "nbformat": 4,
  "nbformat_minor": 0,
  "metadata": {
    "orig_nbformat": 2,
    "colab": {
      "name": "DLNet.ipynb",
      "provenance": [],
      "history_visible": true
    },
    "kernelspec": {
      "name": "python3",
      "display_name": "Python 3"
    },
    "accelerator": "GPU"
  },
  "cells": [
    {
      "cell_type": "markdown",
      "metadata": {
        "id": "4gd2EjmDhoEl"
      },
      "source": [
        "### Mount drive to datasets:"
      ]
    },
    {
      "cell_type": "code",
      "metadata": {
        "id": "D2kZTqtHPXRH",
        "colab": {
          "base_uri": "https://localhost:8080/"
        },
        "outputId": "2be27488-f696-482a-d320-6bb4d9124947"
      },
      "source": [
        "from google.colab import drive\n",
        "drive.mount('/content/drive')"
      ],
      "execution_count": 52,
      "outputs": [
        {
          "output_type": "stream",
          "text": [
            "Drive already mounted at /content/drive; to attempt to forcibly remount, call drive.mount(\"/content/drive\", force_remount=True).\n"
          ],
          "name": "stdout"
        }
      ]
    },
    {
      "cell_type": "markdown",
      "metadata": {
        "id": "_KDqTnB4hu15"
      },
      "source": [
        "### Import libraries and set `DATA_PATH`:"
      ]
    },
    {
      "cell_type": "code",
      "metadata": {
        "id": "_y0MuZpvPSoG"
      },
      "source": [
        "from pathlib import Path\n",
        "import json\n",
        "import glob\n",
        "import numpy as np\n",
        "import librosa\n",
        "import os\n",
        "from librosa import display\n",
        "import matplotlib.pyplot as plt\n",
        "from DLNet_functions import PreprocessWrapper\n",
        "from models import ModelType, ModelBuilder\n",
        "import tensorflow as tf\n",
        "from time import strftime\n",
        "assert tf.__version__ >= \"2.0\"\n",
        "# autotune computation\n",
        "AUTOTUNE = tf.data.experimental.AUTOTUNE\n",
        "DATA_PATH = '/content/drive/MyDrive'"
      ],
      "execution_count": 53,
      "outputs": []
    },
    {
      "cell_type": "markdown",
      "metadata": {
        "id": "8yn_Zm1eh7Rd"
      },
      "source": [
        "### All paths to possible codecs:\n",
        "All codec datasets are created for a binary problem. <br>\n",
        "See configs in DLNet_config.json for details."
      ]
    },
    {
      "cell_type": "code",
      "metadata": {
        "id": "NwA9IoGvXyT0"
      },
      "source": [
        "# Path to datasets:\n",
        "# AAC\n",
        "path_aac_train = os.path.join(DATA_PATH, 'tf_dataset_aac_128', 'aac_128_train_set')\n",
        "path_aac_test = os.path.join(DATA_PATH, 'tf_dataset_aac_128', 'aac_128_test_set')\n",
        "\n",
        "# MP3 32k\n",
        "path_mp3_32k_train = os.path.join(DATA_PATH, 'tf_dataset_mp3_32k', 'mp3_32k_train_set')\n",
        "path_mp3_32k_test = os.path.join(DATA_PATH, 'tf_dataset_mp3_32k', 'mp3_32k_test_set')\n",
        "\n",
        "# MP3 160k\n",
        "path_mp3_160k_train = os.path.join(DATA_PATH, 'tf_dataset_mp3_160k', 'mp3_160k_train_set')\n",
        "path_mp3_160k_test = os.path.join(DATA_PATH, 'tf_dataset_mp3_160k', 'mp3_160k_test_set')\n",
        "\n",
        "# MP3 192k\n",
        "path_mp3_192k_train = os.path.join(DATA_PATH, 'tf_dataset_mp3_192k', 'mp3_192k_train_set')\n",
        "path_mp3_192k_test = os.path.join(DATA_PATH, 'tf_dataset_mp3_192k', 'mp3_192k_test_set')\n",
        "\n",
        "# MP3 320k\n",
        "path_mp3_320k_train = os.path.join(DATA_PATH, 'tf_dataset_mp3_320k', 'mp3_320k_train_set')\n",
        "path_mp3_320k_test = os.path.join(DATA_PATH, 'tf_dataset_mp3_320k', 'mp3_320k_test_set')\n",
        "\n",
        "# AC3\n",
        "path_ogg_vbr_train = os.path.join(DATA_PATH, 'tf_dataset_ogg_vbr', 'ogg_vbr_train_set')\n",
        "path_ogg_vbr_test = os.path.join(DATA_PATH, 'tf_dataset_ogg_vbr', 'ogg_vbr_test_set')\n",
        "\n",
        "# Uncompressed/Lossless\n",
        "path_uncompr_train = os.path.join(DATA_PATH, 'tf_dataset_uncompr_wav', 'uncompr_wav_train_set')\n",
        "path_uncompr_test = os.path.join(DATA_PATH, 'tf_dataset_uncompr_wav', 'uncompr_wav_test_set')"
      ],
      "execution_count": 63,
      "outputs": []
    },
    {
      "cell_type": "markdown",
      "metadata": {
        "id": "obxX_FRSiqlH"
      },
      "source": [
        "### Choose two or more datasets to use for training and testing:"
      ]
    },
    {
      "cell_type": "code",
      "metadata": {
        "id": "KcuhpwDVfUY1"
      },
      "source": [
        "# Choose two codecs to compare:\n",
        "path_codec1_train = path_ogg_vbr_train\n",
        "path_codec1_test = path_ogg_vbr_test\n",
        "path_codec2_train = path_uncompr_train\n",
        "path_codec2_test = path_uncompr_test"
      ],
      "execution_count": 65,
      "outputs": []
    },
    {
      "cell_type": "markdown",
      "metadata": {
        "id": "im76779riuFO"
      },
      "source": [
        "### Read `config` and create `wrapper` object:\n",
        "Each dataset has a config file included with the dataset configurations.<br>\n",
        "Dataset configurations have to match to concatenate the datasets later."
      ]
    },
    {
      "cell_type": "code",
      "metadata": {
        "id": "-U5gsogwPSoL",
        "colab": {
          "base_uri": "https://localhost:8080/"
        },
        "outputId": "7df66fe1-1475-46f4-b45c-3f80d0ead722"
      },
      "source": [
        " # Read configs from dataset:\n",
        "json_file_codec1 =  os.path.join(os.path.split(path_codec1_train)[0], 'DLNet_config.json')\n",
        "json_file_codec2 =  os.path.join(os.path.split(path_codec2_train)[0], 'DLNet_config.json')\n",
        "with open(json_file_codec1, \"r\") as read_file:\n",
        "            config1 = json.load(read_file)\n",
        "with open(json_file_codec2, \"r\") as read_file:\n",
        "            config2 = json.load(read_file)          \n",
        "# Compare configs:\n",
        "if not config1==config2:\n",
        "  raise ValueError(\"Dataset have different config, codecs cannot be compared.\") \n",
        "else:\n",
        "  # Path to dataset_config:\n",
        "  ds_config: str = os.path.join(DATA_PATH, 'dataset_config.json')\n",
        "  # Creater wrapper object:\n",
        "  wrapper: PreprocessWrapper = PreprocessWrapper(config1, ds_config)\n",
        "  # Print Config:\n",
        "  print(json.dumps(config1, sort_keys=False, indent=4))"
      ],
      "execution_count": 66,
      "outputs": [
        {
          "output_type": "stream",
          "text": [
            "{\n",
            "    \"audio_length\": 1,\n",
            "    \"binary\": true,\n",
            "    \"calculate_mel\": false,\n",
            "    \"center\": true,\n",
            "    \"classes\": [\n",
            "        \"compressed_wav\",\n",
            "        \"uncompr_wav\"\n",
            "    ],\n",
            "    \"filter_signal\": false,\n",
            "    \"hop_length\": 256,\n",
            "    \"input_shape\": [\n",
            "        513,\n",
            "        173,\n",
            "        1\n",
            "    ],\n",
            "    \"mono\": true,\n",
            "    \"n_fft\": 1024,\n",
            "    \"n_frames\": 173,\n",
            "    \"n_mels\": 64,\n",
            "    \"pad_mode\": \"reflect\",\n",
            "    \"power\": 2.0,\n",
            "    \"random_seed\": 10,\n",
            "    \"sr\": 44100,\n",
            "    \"time_stamp\": \"14_02_2021_13_23\",\n",
            "    \"win_length\": 512,\n",
            "    \"window\": \"hamm\"\n",
            "}\n"
          ],
          "name": "stdout"
        }
      ]
    },
    {
      "cell_type": "markdown",
      "metadata": {
        "id": "aM8gxj4ajdqQ"
      },
      "source": [
        "### Load chosen datasets and concatenate them:"
      ]
    },
    {
      "cell_type": "code",
      "metadata": {
        "id": "FeMDGkRMXjHP"
      },
      "source": [
        "# Load dataset:\n",
        "# Codec1: (Compressed)\n",
        "train_codec1 = wrapper.load_tf_dataset(path_codec1_train)\n",
        "test_codec1 = wrapper.load_tf_dataset(path_codec1_test)\n",
        "\n",
        "# Codec2: (Uncompressed/Lossless)\n",
        "train_codec2 = wrapper.load_tf_dataset(path_codec2_train)\n",
        "test_codec2 = wrapper.load_tf_dataset(path_codec2_test)\n",
        "\n",
        "# Concatenate datasets:\n",
        "train_dataset = train_codec1.concatenate(train_codec2)\n",
        "test_dataset = test_codec1.concatenate(test_codec2)\n"
      ],
      "execution_count": 75,
      "outputs": []
    },
    {
      "cell_type": "markdown",
      "metadata": {
        "id": "Ml1i2p3tjnOP"
      },
      "source": [
        "### Print dataset info:"
      ]
    },
    {
      "cell_type": "code",
      "metadata": {
        "colab": {
          "base_uri": "https://localhost:8080/"
        },
        "id": "eR9MpUUkc1Wr",
        "outputId": "6a72f1b9-486b-4304-afcd-62eb88615dd4"
      },
      "source": [
        "print(train_codec1)\n",
        "print(test_codec1)\n",
        "print(train_codec2)\n",
        "print(test_codec2)\n",
        "print(train_dataset)\n",
        "print(test_dataset)"
      ],
      "execution_count": 76,
      "outputs": [
        {
          "output_type": "stream",
          "text": [
            "<_LoadDataset shapes: ((513, 173, 1), (2,)), types: (tf.float32, tf.uint8)>\n",
            "<_LoadDataset shapes: ((513, 173, 1), (2,)), types: (tf.float32, tf.uint8)>\n",
            "<_LoadDataset shapes: ((513, 173, 1), (2,)), types: (tf.float32, tf.uint8)>\n",
            "<_LoadDataset shapes: ((513, 173, 1), (2,)), types: (tf.float32, tf.uint8)>\n",
            "<ConcatenateDataset shapes: ((513, 173, 1), (2,)), types: (tf.float32, tf.uint8)>\n",
            "<ConcatenateDataset shapes: ((513, 173, 1), (2,)), types: (tf.float32, tf.uint8)>\n"
          ],
          "name": "stdout"
        }
      ]
    },
    {
      "cell_type": "markdown",
      "metadata": {
        "id": "L6L60LYGj19d"
      },
      "source": [
        "### Prepare datasets:\n",
        "\n",
        "\n",
        "*   Shuffle `train_dataset`\n",
        "*   Take 10 % of `train_dataset` for evaluation: `eval_dataset`\n",
        "*   Shuffle and batch rest of `train_dataset`\n",
        "*   Batch `test_dataset`\n",
        "*   Batch size: 64\n",
        "\n"
      ]
    },
    {
      "cell_type": "code",
      "metadata": {
        "id": "ocaBr3OiPSoO"
      },
      "source": [
        "train_size = len(train_dataset)\n",
        "test_size = len(test_dataset)\n",
        "eval_size = int(.1*train_size)\n",
        "batch_size = 64\n",
        "\n",
        "# Shuffel train data:\n",
        "train_dataset = train_dataset.shuffle(buffer_size=train_size)\n",
        "\n",
        "# Split train into train and eval set:\n",
        "eval_dataset = train_dataset.take(eval_size)\n",
        "eval_dataset = eval_dataset.batch(batch_size).prefetch(AUTOTUNE)\n",
        "\n",
        "# Train dataset\n",
        "train_dataset = train_dataset.skip(eval_size)\n",
        "train_dataset = train_dataset.shuffle(train_size - eval_size)\n",
        "train_dataset = train_dataset.batch(batch_size)\n",
        "train_dataset = train_dataset.prefetch(AUTOTUNE)\n",
        "\n",
        "# Prepare test dataset\n",
        "test_dataset = test_dataset.batch(batch_size).prefetch(AUTOTUNE)\n"
      ],
      "execution_count": 77,
      "outputs": []
    },
    {
      "cell_type": "markdown",
      "metadata": {
        "id": "ekQWRjrOkqjJ"
      },
      "source": [
        "### Load CNN Model:"
      ]
    },
    {
      "cell_type": "code",
      "metadata": {
        "id": "zum-gT5ZRIX3"
      },
      "source": [
        "MODEL_TYPE = ModelType.HENNEQUIN\n",
        "model_builder = ModelBuilder(MODEL_TYPE, config['input_shape'],\n",
        "                             config['classes'])\n",
        "model = model_builder.get_model()\n",
        "\n",
        "# Define metrics\n",
        "metrics = [tf.keras.metrics.TrueNegatives(),\n",
        "           tf.keras.metrics.TruePositives(),\n",
        "           tf.keras.metrics.FalseNegatives(),\n",
        "           tf.keras.metrics.FalsePositives(),\n",
        "           tf.keras.metrics.Precision(),\n",
        "           tf.keras.metrics.Recall(),\n",
        "           tf.keras.metrics.CategoricalAccuracy()\n",
        "           ]"
      ],
      "execution_count": 78,
      "outputs": []
    },
    {
      "cell_type": "markdown",
      "metadata": {
        "id": "avCQK_89ksTr"
      },
      "source": [
        "### Compile, train and evaluate model:"
      ]
    },
    {
      "cell_type": "code",
      "metadata": {
        "id": "vC-5lFN0PSoP",
        "colab": {
          "base_uri": "https://localhost:8080/"
        },
        "outputId": "0c193825-bf18-412a-9f89-68c45ba907d4"
      },
      "source": [
        "# compile model\n",
        "n_epochs = 20\n",
        "model.compile(optimizer='adam',\n",
        "              loss='binary_crossentropy',\n",
        "              metrics=['accuracy'])\n",
        "\n",
        "# fit model\n",
        "history = model.fit(train_dataset, epochs=n_epochs,\n",
        "                    validation_data=eval_dataset, verbose=1)\n",
        "\n",
        "model.evaluate(test_dataset, batch_size=64)"
      ],
      "execution_count": 79,
      "outputs": [
        {
          "output_type": "stream",
          "text": [
            "Epoch 1/20\n",
            "82/82 [==============================] - 53s 281ms/step - loss: 0.6942 - accuracy: 0.5017 - val_loss: 0.5946 - val_accuracy: 0.7638\n",
            "Epoch 2/20\n",
            "82/82 [==============================] - 37s 272ms/step - loss: 0.3933 - accuracy: 0.8294 - val_loss: 0.1019 - val_accuracy: 0.9586\n",
            "Epoch 3/20\n",
            "82/82 [==============================] - 37s 271ms/step - loss: 0.1497 - accuracy: 0.9372 - val_loss: 0.1050 - val_accuracy: 0.9621\n",
            "Epoch 4/20\n",
            "82/82 [==============================] - 37s 271ms/step - loss: 0.1023 - accuracy: 0.9639 - val_loss: 0.0508 - val_accuracy: 0.9845\n",
            "Epoch 5/20\n",
            "82/82 [==============================] - 37s 272ms/step - loss: 0.0858 - accuracy: 0.9672 - val_loss: 0.1250 - val_accuracy: 0.9431\n",
            "Epoch 6/20\n",
            "82/82 [==============================] - 37s 268ms/step - loss: 0.0660 - accuracy: 0.9783 - val_loss: 0.0538 - val_accuracy: 0.9845\n",
            "Epoch 7/20\n",
            "82/82 [==============================] - 37s 272ms/step - loss: 0.0546 - accuracy: 0.9811 - val_loss: 0.1883 - val_accuracy: 0.9224\n",
            "Epoch 8/20\n",
            "82/82 [==============================] - 37s 270ms/step - loss: 0.0865 - accuracy: 0.9656 - val_loss: 0.0430 - val_accuracy: 0.9828\n",
            "Epoch 9/20\n",
            "82/82 [==============================] - 37s 271ms/step - loss: 0.0484 - accuracy: 0.9814 - val_loss: 0.0150 - val_accuracy: 0.9966\n",
            "Epoch 10/20\n",
            "82/82 [==============================] - 37s 271ms/step - loss: 0.0330 - accuracy: 0.9903 - val_loss: 0.0199 - val_accuracy: 0.9931\n",
            "Epoch 11/20\n",
            "82/82 [==============================] - 37s 272ms/step - loss: 0.0207 - accuracy: 0.9921 - val_loss: 0.0165 - val_accuracy: 0.9948\n",
            "Epoch 12/20\n",
            "82/82 [==============================] - 37s 271ms/step - loss: 0.0212 - accuracy: 0.9915 - val_loss: 0.0104 - val_accuracy: 0.9983\n",
            "Epoch 13/20\n",
            "82/82 [==============================] - 38s 274ms/step - loss: 0.0186 - accuracy: 0.9922 - val_loss: 0.0070 - val_accuracy: 0.9966\n",
            "Epoch 14/20\n",
            "82/82 [==============================] - 37s 272ms/step - loss: 0.0134 - accuracy: 0.9954 - val_loss: 0.0129 - val_accuracy: 0.9931\n",
            "Epoch 15/20\n",
            "82/82 [==============================] - 37s 271ms/step - loss: 0.0229 - accuracy: 0.9916 - val_loss: 0.0175 - val_accuracy: 0.9931\n",
            "Epoch 16/20\n",
            "82/82 [==============================] - 37s 271ms/step - loss: 0.0104 - accuracy: 0.9973 - val_loss: 0.0059 - val_accuracy: 0.9983\n",
            "Epoch 17/20\n",
            "82/82 [==============================] - 37s 272ms/step - loss: 0.0039 - accuracy: 0.9993 - val_loss: 0.0036 - val_accuracy: 0.9983\n",
            "Epoch 18/20\n",
            "82/82 [==============================] - 37s 270ms/step - loss: 0.0030 - accuracy: 0.9998 - val_loss: 9.7389e-04 - val_accuracy: 1.0000\n",
            "Epoch 19/20\n",
            "82/82 [==============================] - 37s 270ms/step - loss: 0.0606 - accuracy: 0.9754 - val_loss: 0.0140 - val_accuracy: 0.9914\n",
            "Epoch 20/20\n",
            "82/82 [==============================] - 37s 270ms/step - loss: 0.0151 - accuracy: 0.9954 - val_loss: 0.0113 - val_accuracy: 0.9983\n",
            "24/24 [==============================] - 9s 338ms/step - loss: 0.1837 - accuracy: 0.9573\n"
          ],
          "name": "stdout"
        },
        {
          "output_type": "execute_result",
          "data": {
            "text/plain": [
              "[0.1836613118648529, 0.9573333263397217]"
            ]
          },
          "metadata": {
            "tags": []
          },
          "execution_count": 79
        }
      ]
    },
    {
      "cell_type": "code",
      "metadata": {
        "id": "SDJAlyLJPSoQ",
        "colab": {
          "base_uri": "https://localhost:8080/",
          "height": 295
        },
        "outputId": "a74bf06d-fd0d-4614-a0c7-dcbf5d0850e8"
      },
      "source": [
        "# setup plot\n",
        "fig, ax = plt.subplots(nrows=1, ncols=2,figsize=(16,4))\n",
        "\n",
        "# plot loss\n",
        "ax[0].plot(range(n_epochs), history.history['loss'])\n",
        "ax[0].plot(range(n_epochs), history.history['val_loss'])\n",
        "ax[0].set_ylabel('loss'), ax[0].set_title('train_loss vs val_loss')\n",
        "\n",
        "# plot accuracy\n",
        "ax[1].plot(range(n_epochs), history.history['accuracy'])\n",
        "ax[1].plot(range(n_epochs), history.history['val_accuracy'])\n",
        "ax[1].set_ylabel('accuracy'), ax[1].set_title('train_acc vs val_acc')\n",
        "\n",
        "# plot adjustement\n",
        "for a in ax:\n",
        "    a.grid(True)\n",
        "    a.legend(['train','val'], loc=4)\n",
        "    a.set_xlabel('num of Epochs')\n",
        "plt.show()\n"
      ],
      "execution_count": 82,
      "outputs": [
        {
          "output_type": "display_data",
          "data": {
            "image/png": "[encoded data removed]",
            "text/plain": [
              "<Figure size 1152x288 with 2 Axes>"
            ]
          },
          "metadata": {
            "tags": [],
            "needs_background": "light"
          }
        }
      ]
    }
  ]
}