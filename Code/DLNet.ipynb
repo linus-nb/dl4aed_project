{
  "nbformat": 4,
  "nbformat_minor": 0,
  "metadata": {
    "orig_nbformat": 2,
    "colab": {
      "name": "DLNet.ipynb",
      "provenance": []
    },
    "kernelspec": {
      "name": "python3",
      "display_name": "Python 3"
    }
  },
  "cells": [
    {
      "cell_type": "code",
      "metadata": {
        "id": "D2kZTqtHPXRH",
        "colab": {
          "base_uri": "https://localhost:8080/"
        },
        "outputId": "4462da65-2dbc-4abd-d7b0-b55f67a7ba48"
      },
      "source": [
        "from google.colab import drive\n",
        "drive.mount('/content/drive')"
      ],
      "execution_count": null,
      "outputs": [
        {
          "output_type": "stream",
          "text": [
            "Mounted at /content/drive\n"
          ],
          "name": "stdout"
        }
      ]
    },
    {
      "cell_type": "code",
      "metadata": {
        "id": "_y0MuZpvPSoG"
      },
      "source": [
        "from pathlib import Path\n",
        "import json\n",
        "import glob\n",
        "import numpy as np\n",
        "import librosa\n",
        "import os\n",
        "from librosa import display\n",
        "import matplotlib.pyplot as plt\n",
        "from DLNet_functions import PreprocessWrapper\n",
        "from models import ModelType, ModelBuilder\n",
        "import tensorflow as tf\n",
        "from time import strftime\n",
        "assert tf.__version__ >= \"2.0\"\n",
        "# autotune computation\n",
        "AUTOTUNE = tf.data.experimental.AUTOTUNE\n",
        "RANDOM_SEED = 10\n",
        "DATA_PATH = '_data'"
      ],
      "execution_count": null,
      "outputs": []
    },
    {
      "cell_type": "code",
      "metadata": {
        "id": "-U5gsogwPSoL"
      },
      "source": [
        "# Create Config for preprocessing and pipeline parameters\n",
        "\n",
        "# if true analysis is conducted with mel-spectrograms, if false with \"full\"\n",
        "# spectrograms\n",
        "CALCULATE_MEL = False\n",
        "time_stamp = f'{strftime(\"%d_%m_%Y_%H_%M\")}'\n",
        "\n",
        "config: {} = {'time_stamp': time_stamp,\n",
        "              'sr': 44100,\n",
        "              'audio_length': 1,\n",
        "              'mono': True,\n",
        "              'n_mels': 64,\n",
        "              'n_fft': 1024,\n",
        "              'hop_length': 256,\n",
        "              'win_length': 512,\n",
        "              'window': 'hamm',\n",
        "              'center': True,\n",
        "              'pad_mode': 'reflect',\n",
        "              'power': 2.0,\n",
        "              'calculate_mel': CALCULATE_MEL,\n",
        "              'filter_signal': False,\n",
        "              'random_seed': RANDOM_SEED\n",
        "              }\n",
        "\n",
        "\n",
        "# save number of frames from length in samples divided by fft hop length\n",
        "config['n_frames']: int = int(\n",
        "    config['sr']*config['audio_length']/config['hop_length']) + 1\n",
        "\n",
        "# save input shape for model\n",
        "if CALCULATE_MEL:\n",
        "    config['input_shape']: (int, int, int) = (config['n_mels'],\n",
        "                                              config['n_frames'], 1)\n",
        "else:\n",
        "    config['input_shape']: (int, int, int) = (int(config['n_fft']/2 + 1),\n",
        "                                              config['n_frames'], 1)\n",
        "\n",
        "\n",
        "# save config\n",
        "with open('DLNet_config.json', 'a') as fp:\n",
        "    json.dump(config, fp, sort_keys=True, indent=4)\n",
        "\n",
        "# Creater wrapper object:\n",
        "ds_config: str = 'dl4aed_project/Code/_data/dataset_config.json'\n",
        "wrapper: PreprocessWrapper = PreprocessWrapper(config, ds_config)\n"
      ],
      "execution_count": null,
      "outputs": []
    },
    {
      "cell_type": "code",
      "metadata": {
        "id": "lRIb4Ao5PSoM"
      },
      "source": [
        "# Create dataset from MedleyDB\n",
        "train_aac, test_aac = wrapper.tf_dataset_from_codec(os.path.join(DATA_PATH, 'MedleyDB', 'compressed_wav', 'mp3_320k'))\n",
        "train_wav, test_wav = wrapper.tf_dataset_from_codec(os.path.join(DATA_PATH, 'MedleyDB', 'uncompr_wav'))\n",
        "test_dataset = test_wav.concatenate(test_aac)\n",
        "train_dataset = train_wav.concatenate(train_aac)\n",
        "# Create dataset from MedleyDB and add uncompressed wav from OtherWAV\n",
        "# train_medley, test_medley = wrapper.tf_dataset_from_database(os.path.join(DATA_PATH, 'MedleyDB'))\n",
        "# train_wav, test_wav = wrapper.tf_dataset_from_codec(os.path.join(DATA_PATH, 'OtherWAV', 'uncompr_wav'))\n",
        "# test_dataset = test_wav.concatenate(test_medley)\n",
        "# train_dataset = train_wav.concatenate(train_medley)"
      ],
      "execution_count": null,
      "outputs": []
    },
    {
      "cell_type": "code",
      "metadata": {
        "id": "hXHrynlMPSoM",
        "colab": {
          "base_uri": "https://localhost:8080/",
          "height": 375
        },
        "outputId": "c6ef1115-716e-49a1-87d9-92764e717087"
      },
      "source": [
        "# VISUALIZE WAVEFORMS\n",
        "# get all wav files\n",
        "fps = glob.glob(os.path.join(DATA_PATH, 'MedleyDB', '*_wav/**/*.wav'), recursive=True)\n",
        "fps_random = []\n",
        "np.random.seed(9)\n",
        "\n",
        "# setup subplot\n",
        "nrows, ncols = 2, 2\n",
        "fig, ax = plt.subplots(nrows=nrows, ncols=ncols, figsize=(16, 6))\n",
        "\n",
        "# plot some audio waveforms\n",
        "for r in range(nrows):\n",
        "    for c in range(ncols):\n",
        "        fp_random = fps[np.random.randint(0, len(fps))]\n",
        "        audio, sr = librosa.core.load(fp_random, sr=None)\n",
        "        ax[r][c].plot(audio, c='k')\n",
        "        # ax[r][c].axis('off')\n",
        "        ax[r][c].set_title(Path(fp_random).parts[-2:])\n",
        "        if r == 0:\n",
        "            ax[r][c].set_xticks([])\n",
        "        # save random audio filepaths\n",
        "        fps_random.append(fp_random)\n"
      ],
      "execution_count": null,
      "outputs": [
        {
          "output_type": "error",
          "ename": "KeyboardInterrupt",
          "evalue": "ignored",
          "traceback": [
            "\u001b[0;31m---------------------------------------------------------------------------\u001b[0m",
            "\u001b[0;31mKeyboardInterrupt\u001b[0m                         Traceback (most recent call last)",
            "\u001b[0;32m<ipython-input-10-4fb13d5cc24e>\u001b[0m in \u001b[0;36m<module>\u001b[0;34m()\u001b[0m\n\u001b[1;32m      1\u001b[0m \u001b[0;31m# VISUALIZE WAVEFORMS\u001b[0m\u001b[0;34m\u001b[0m\u001b[0;34m\u001b[0m\u001b[0;34m\u001b[0m\u001b[0m\n\u001b[1;32m      2\u001b[0m \u001b[0;31m# get all wav files\u001b[0m\u001b[0;34m\u001b[0m\u001b[0;34m\u001b[0m\u001b[0;34m\u001b[0m\u001b[0m\n\u001b[0;32m----> 3\u001b[0;31m \u001b[0mfps\u001b[0m \u001b[0;34m=\u001b[0m \u001b[0mglob\u001b[0m\u001b[0;34m.\u001b[0m\u001b[0mglob\u001b[0m\u001b[0;34m(\u001b[0m\u001b[0mos\u001b[0m\u001b[0;34m.\u001b[0m\u001b[0mpath\u001b[0m\u001b[0;34m.\u001b[0m\u001b[0mjoin\u001b[0m\u001b[0;34m(\u001b[0m\u001b[0mDATA_PATH\u001b[0m\u001b[0;34m,\u001b[0m \u001b[0;34m'MedleyDB'\u001b[0m\u001b[0;34m,\u001b[0m \u001b[0;34m'*_wav/**/*.wav'\u001b[0m\u001b[0;34m)\u001b[0m\u001b[0;34m,\u001b[0m \u001b[0mrecursive\u001b[0m\u001b[0;34m=\u001b[0m\u001b[0;32mTrue\u001b[0m\u001b[0;34m)\u001b[0m\u001b[0;34m\u001b[0m\u001b[0;34m\u001b[0m\u001b[0m\n\u001b[0m\u001b[1;32m      4\u001b[0m \u001b[0mfps_random\u001b[0m \u001b[0;34m=\u001b[0m \u001b[0;34m[\u001b[0m\u001b[0;34m]\u001b[0m\u001b[0;34m\u001b[0m\u001b[0;34m\u001b[0m\u001b[0m\n\u001b[1;32m      5\u001b[0m \u001b[0mnp\u001b[0m\u001b[0;34m.\u001b[0m\u001b[0mrandom\u001b[0m\u001b[0;34m.\u001b[0m\u001b[0mseed\u001b[0m\u001b[0;34m(\u001b[0m\u001b[0;36m9\u001b[0m\u001b[0;34m)\u001b[0m\u001b[0;34m\u001b[0m\u001b[0;34m\u001b[0m\u001b[0m\n",
            "\u001b[0;32m/usr/lib/python3.6/glob.py\u001b[0m in \u001b[0;36mglob\u001b[0;34m(pathname, recursive)\u001b[0m\n\u001b[1;32m     18\u001b[0m     \u001b[0mzero\u001b[0m \u001b[0;32mor\u001b[0m \u001b[0mmore\u001b[0m \u001b[0mdirectories\u001b[0m \u001b[0;32mand\u001b[0m \u001b[0msubdirectories\u001b[0m\u001b[0;34m.\u001b[0m\u001b[0;34m\u001b[0m\u001b[0;34m\u001b[0m\u001b[0m\n\u001b[1;32m     19\u001b[0m     \"\"\"\n\u001b[0;32m---> 20\u001b[0;31m     \u001b[0;32mreturn\u001b[0m \u001b[0mlist\u001b[0m\u001b[0;34m(\u001b[0m\u001b[0miglob\u001b[0m\u001b[0;34m(\u001b[0m\u001b[0mpathname\u001b[0m\u001b[0;34m,\u001b[0m \u001b[0mrecursive\u001b[0m\u001b[0;34m=\u001b[0m\u001b[0mrecursive\u001b[0m\u001b[0;34m)\u001b[0m\u001b[0;34m)\u001b[0m\u001b[0;34m\u001b[0m\u001b[0;34m\u001b[0m\u001b[0m\n\u001b[0m\u001b[1;32m     21\u001b[0m \u001b[0;34m\u001b[0m\u001b[0m\n\u001b[1;32m     22\u001b[0m \u001b[0;32mdef\u001b[0m \u001b[0miglob\u001b[0m\u001b[0;34m(\u001b[0m\u001b[0mpathname\u001b[0m\u001b[0;34m,\u001b[0m \u001b[0;34m*\u001b[0m\u001b[0;34m,\u001b[0m \u001b[0mrecursive\u001b[0m\u001b[0;34m=\u001b[0m\u001b[0;32mFalse\u001b[0m\u001b[0;34m)\u001b[0m\u001b[0;34m:\u001b[0m\u001b[0;34m\u001b[0m\u001b[0;34m\u001b[0m\u001b[0m\n",
            "\u001b[0;32m/usr/lib/python3.6/glob.py\u001b[0m in \u001b[0;36m_iglob\u001b[0;34m(pathname, recursive, dironly)\u001b[0m\n\u001b[1;32m     70\u001b[0m         \u001b[0mglob_in_dir\u001b[0m \u001b[0;34m=\u001b[0m \u001b[0m_glob0\u001b[0m\u001b[0;34m\u001b[0m\u001b[0;34m\u001b[0m\u001b[0m\n\u001b[1;32m     71\u001b[0m     \u001b[0;32mfor\u001b[0m \u001b[0mdirname\u001b[0m \u001b[0;32min\u001b[0m \u001b[0mdirs\u001b[0m\u001b[0;34m:\u001b[0m\u001b[0;34m\u001b[0m\u001b[0;34m\u001b[0m\u001b[0m\n\u001b[0;32m---> 72\u001b[0;31m         \u001b[0;32mfor\u001b[0m \u001b[0mname\u001b[0m \u001b[0;32min\u001b[0m \u001b[0mglob_in_dir\u001b[0m\u001b[0;34m(\u001b[0m\u001b[0mdirname\u001b[0m\u001b[0;34m,\u001b[0m \u001b[0mbasename\u001b[0m\u001b[0;34m,\u001b[0m \u001b[0mdironly\u001b[0m\u001b[0;34m)\u001b[0m\u001b[0;34m:\u001b[0m\u001b[0;34m\u001b[0m\u001b[0;34m\u001b[0m\u001b[0m\n\u001b[0m\u001b[1;32m     73\u001b[0m             \u001b[0;32myield\u001b[0m \u001b[0mos\u001b[0m\u001b[0;34m.\u001b[0m\u001b[0mpath\u001b[0m\u001b[0;34m.\u001b[0m\u001b[0mjoin\u001b[0m\u001b[0;34m(\u001b[0m\u001b[0mdirname\u001b[0m\u001b[0;34m,\u001b[0m \u001b[0mname\u001b[0m\u001b[0;34m)\u001b[0m\u001b[0;34m\u001b[0m\u001b[0;34m\u001b[0m\u001b[0m\n\u001b[1;32m     74\u001b[0m \u001b[0;34m\u001b[0m\u001b[0m\n",
            "\u001b[0;32m/usr/lib/python3.6/glob.py\u001b[0m in \u001b[0;36m_glob1\u001b[0;34m(dirname, pattern, dironly)\u001b[0m\n\u001b[1;32m     78\u001b[0m \u001b[0;34m\u001b[0m\u001b[0m\n\u001b[1;32m     79\u001b[0m \u001b[0;32mdef\u001b[0m \u001b[0m_glob1\u001b[0m\u001b[0;34m(\u001b[0m\u001b[0mdirname\u001b[0m\u001b[0;34m,\u001b[0m \u001b[0mpattern\u001b[0m\u001b[0;34m,\u001b[0m \u001b[0mdironly\u001b[0m\u001b[0;34m)\u001b[0m\u001b[0;34m:\u001b[0m\u001b[0;34m\u001b[0m\u001b[0;34m\u001b[0m\u001b[0m\n\u001b[0;32m---> 80\u001b[0;31m     \u001b[0mnames\u001b[0m \u001b[0;34m=\u001b[0m \u001b[0mlist\u001b[0m\u001b[0;34m(\u001b[0m\u001b[0m_iterdir\u001b[0m\u001b[0;34m(\u001b[0m\u001b[0mdirname\u001b[0m\u001b[0;34m,\u001b[0m \u001b[0mdironly\u001b[0m\u001b[0;34m)\u001b[0m\u001b[0;34m)\u001b[0m\u001b[0;34m\u001b[0m\u001b[0;34m\u001b[0m\u001b[0m\n\u001b[0m\u001b[1;32m     81\u001b[0m     \u001b[0;32mif\u001b[0m \u001b[0;32mnot\u001b[0m \u001b[0m_ishidden\u001b[0m\u001b[0;34m(\u001b[0m\u001b[0mpattern\u001b[0m\u001b[0;34m)\u001b[0m\u001b[0;34m:\u001b[0m\u001b[0;34m\u001b[0m\u001b[0;34m\u001b[0m\u001b[0m\n\u001b[1;32m     82\u001b[0m         \u001b[0mnames\u001b[0m \u001b[0;34m=\u001b[0m \u001b[0;34m(\u001b[0m\u001b[0mx\u001b[0m \u001b[0;32mfor\u001b[0m \u001b[0mx\u001b[0m \u001b[0;32min\u001b[0m \u001b[0mnames\u001b[0m \u001b[0;32mif\u001b[0m \u001b[0;32mnot\u001b[0m \u001b[0m_ishidden\u001b[0m\u001b[0;34m(\u001b[0m\u001b[0mx\u001b[0m\u001b[0;34m)\u001b[0m\u001b[0;34m)\u001b[0m\u001b[0;34m\u001b[0m\u001b[0;34m\u001b[0m\u001b[0m\n",
            "\u001b[0;32m/usr/lib/python3.6/glob.py\u001b[0m in \u001b[0;36m_iterdir\u001b[0;34m(dirname, dironly)\u001b[0m\n\u001b[1;32m    119\u001b[0m             \u001b[0mdirname\u001b[0m \u001b[0;34m=\u001b[0m \u001b[0mos\u001b[0m\u001b[0;34m.\u001b[0m\u001b[0mcurdir\u001b[0m\u001b[0;34m\u001b[0m\u001b[0;34m\u001b[0m\u001b[0m\n\u001b[1;32m    120\u001b[0m     \u001b[0;32mtry\u001b[0m\u001b[0;34m:\u001b[0m\u001b[0;34m\u001b[0m\u001b[0;34m\u001b[0m\u001b[0m\n\u001b[0;32m--> 121\u001b[0;31m         \u001b[0;32mwith\u001b[0m \u001b[0mos\u001b[0m\u001b[0;34m.\u001b[0m\u001b[0mscandir\u001b[0m\u001b[0;34m(\u001b[0m\u001b[0mdirname\u001b[0m\u001b[0;34m)\u001b[0m \u001b[0;32mas\u001b[0m \u001b[0mit\u001b[0m\u001b[0;34m:\u001b[0m\u001b[0;34m\u001b[0m\u001b[0;34m\u001b[0m\u001b[0m\n\u001b[0m\u001b[1;32m    122\u001b[0m             \u001b[0;32mfor\u001b[0m \u001b[0mentry\u001b[0m \u001b[0;32min\u001b[0m \u001b[0mit\u001b[0m\u001b[0;34m:\u001b[0m\u001b[0;34m\u001b[0m\u001b[0;34m\u001b[0m\u001b[0m\n\u001b[1;32m    123\u001b[0m                 \u001b[0;32mtry\u001b[0m\u001b[0;34m:\u001b[0m\u001b[0;34m\u001b[0m\u001b[0;34m\u001b[0m\u001b[0m\n",
            "\u001b[0;31mKeyboardInterrupt\u001b[0m: "
          ]
        }
      ]
    },
    {
      "cell_type": "code",
      "metadata": {
        "id": "x8wROmezPSoN",
        "outputId": "13131beb-deff-4a30-90cf-3f6b12136f4d"
      },
      "source": [
        "# VISUALIZE SPECTROGRAMS\n",
        "# setup subplot\n",
        "nrows, ncols = 4, 2\n",
        "fig, ax = plt.subplots(nrows=nrows, ncols=ncols, figsize=(16, 12))\n",
        "\n",
        "# plot some audio waveforms\n",
        "for i, fp_random in enumerate(fps_random):\n",
        "    audio, sr = librosa.core.load(fp_random, sr=None)\n",
        "\n",
        "    # calculate stft\n",
        "    stft = librosa.stft(audio, n_fft=config['n_fft'],\n",
        "                        hop_length=config['hop_length'],\n",
        "                        win_length=config['win_length'])\n",
        "\n",
        "    # calculate melspec\n",
        "    melspec = librosa.feature.melspectrogram(audio, n_fft=config['n_fft'],\n",
        "                                             hop_length=config['hop_length'],\n",
        "                                             n_mels=config['n_mels'],\n",
        "                                             fmax=int(config['sr']/2))\n",
        "    melspec = librosa.amplitude_to_db(melspec, ref=np.max)\n",
        "\n",
        "    # calculate magnitude and scale to dB\n",
        "    magspec = librosa.amplitude_to_db(np.abs(stft), ref=np.max)\n",
        "\n",
        "    # plot with librosa\n",
        "    librosa.display.specshow(magspec, x_axis='time', y_axis='linear', sr=sr,\n",
        "                             hop_length=256, ax=ax[i][0])\n",
        "    librosa.display.specshow(melspec, x_axis='time', y_axis='mel', sr=sr,\n",
        "                             hop_length=256, ax=ax[i][1])\n",
        "\n",
        "    # adjustments\n",
        "    # ax[i][1].set_yticks([])\n",
        "    ax[i][1].set_ylabel(Path(fp_random).parts[-2], rotation=270, labelpad=20)\n",
        "    ax[i][1].yaxis.set_label_position(\"right\")\n",
        "\n",
        "    # settings for all axises but bottom ones\n",
        "    if not i == len(fps_random) - 1:\n",
        "        ax[i][0].set_xticks([])\n",
        "        ax[i][1].set_xticks([])\n",
        "        ax[i][0].set_xlabel('')\n",
        "        ax[i][1].set_xlabel('')\n",
        "\n",
        "    # settings for upper axises\n",
        "    if i == 0:\n",
        "        ax[i][0].set_title('stft')\n",
        "        ax[i][1].set_title('mel spectrogram')\n",
        "\n",
        "# adjust whitespace in between subplots\n",
        "plt.subplots_adjust(hspace=0.1, wspace=0.1)\n",
        "\n",
        "print('Melspec shape: %s' % (str(melspec.shape)))\n",
        "print('Stft shape: %s' % (str(stft.shape)))\n",
        "print(f'Total data points in mel-spectrogram: \\\n",
        "      {melspec.shape[0]*melspec.shape[1]}')\n",
        "print(f'Total data points in stft-spectrogram: {stft.shape[0]*stft.shape[1]}')\n",
        "print(f'-> Data Reduction by factor: \\\n",
        "      {(stft.shape[0]*stft.shape[1]) / (melspec.shape[0]*melspec.shape[1])}')\n",
        "\n"
      ],
      "execution_count": null,
      "outputs": [
        {
          "output_type": "error",
          "ename": "NameError",
          "evalue": "name 'melspec' is not defined",
          "traceback": [
            "\u001b[0;31m---------------------------------------------------------------------------\u001b[0m",
            "\u001b[0;31mNameError\u001b[0m                                 Traceback (most recent call last)",
            "\u001b[0;32m~/tubCloud/Documents/3.Semester/DL4AED/dl4aed_project/Code/DLNet.py\u001b[0m in \u001b[0;36m<module>\u001b[0;34m\u001b[0m\n\u001b[1;32m     49\u001b[0m \u001b[0mplt\u001b[0m\u001b[0;34m.\u001b[0m\u001b[0msubplots_adjust\u001b[0m\u001b[0;34m(\u001b[0m\u001b[0mhspace\u001b[0m\u001b[0;34m=\u001b[0m\u001b[0;36m0.1\u001b[0m\u001b[0;34m,\u001b[0m \u001b[0mwspace\u001b[0m\u001b[0;34m=\u001b[0m\u001b[0;36m0.1\u001b[0m\u001b[0;34m)\u001b[0m\u001b[0;34m\u001b[0m\u001b[0;34m\u001b[0m\u001b[0m\n\u001b[1;32m     50\u001b[0m \u001b[0;34m\u001b[0m\u001b[0m\n\u001b[0;32m---> 51\u001b[0;31m \u001b[0mprint\u001b[0m\u001b[0;34m(\u001b[0m\u001b[0;34m'Melspec shape: %s'\u001b[0m \u001b[0;34m%\u001b[0m \u001b[0;34m(\u001b[0m\u001b[0mstr\u001b[0m\u001b[0;34m(\u001b[0m\u001b[0mmelspec\u001b[0m\u001b[0;34m.\u001b[0m\u001b[0mshape\u001b[0m\u001b[0;34m)\u001b[0m\u001b[0;34m)\u001b[0m\u001b[0;34m)\u001b[0m\u001b[0;34m\u001b[0m\u001b[0;34m\u001b[0m\u001b[0m\n\u001b[0m\u001b[1;32m     52\u001b[0m \u001b[0mprint\u001b[0m\u001b[0;34m(\u001b[0m\u001b[0;34m'Stft shape: %s'\u001b[0m \u001b[0;34m%\u001b[0m \u001b[0;34m(\u001b[0m\u001b[0mstr\u001b[0m\u001b[0;34m(\u001b[0m\u001b[0mstft\u001b[0m\u001b[0;34m.\u001b[0m\u001b[0mshape\u001b[0m\u001b[0;34m)\u001b[0m\u001b[0;34m)\u001b[0m\u001b[0;34m)\u001b[0m\u001b[0;34m\u001b[0m\u001b[0;34m\u001b[0m\u001b[0m\n\u001b[1;32m     53\u001b[0m print(f'Total data points in mel-spectrogram: \\\n",
            "\u001b[0;31mNameError\u001b[0m: name 'melspec' is not defined"
          ]
        }
      ]
    },
    {
      "cell_type": "code",
      "metadata": {
        "id": "ocaBr3OiPSoO"
      },
      "source": [
        "train_size = len(train_dataset)\n",
        "test_size = len(test_dataset)\n",
        "eval_size = int(.1*train_size)\n",
        "batch_size = 64\n",
        "\n",
        "# Shuffel train data:\n",
        "train_dataset = train_dataset.shuffle(buffer_size=train_size)\n",
        "\n",
        "# Split train into train and eval set:\n",
        "eval_dataset = train_dataset.take(eval_size)\n",
        "eval_dataset = eval_dataset.batch(batch_size).prefetch(AUTOTUNE)\n",
        "\n",
        "# Train dataset\n",
        "train_dataset = train_dataset.skip(eval_size)\n",
        "train_dataset = train_dataset.shuffle(train_size - eval_size)\n",
        "train_dataset = train_dataset.batch(batch_size)\n",
        "train_dataset = train_dataset.prefetch(AUTOTUNE)\n",
        "\n",
        "# Prepare test dataset\n",
        "test_dataset = test_dataset.batch(batch_size).prefetch(AUTOTUNE)\n"
      ],
      "execution_count": null,
      "outputs": []
    },
    {
      "cell_type": "code",
      "metadata": {
        "id": "zum-gT5ZRIX3"
      },
      "source": [
        "MODEL_TYPE = ModelType.HENNEQUIN\n",
        "model_builder = ModelBuilder(MODEL_TYPE, config['input_shape'],\n",
        "                             config['classes'])\n",
        "model = model_builder.get_model()\n",
        "\n",
        "# Define metrics\n",
        "metrics = [tf.keras.metrics.TrueNegatives(),\n",
        "           tf.keras.metrics.TruePositives(),\n",
        "           tf.keras.metrics.FalseNegatives(),\n",
        "           tf.keras.metrics.FalsePositives(),\n",
        "           tf.keras.metrics.Precision(),\n",
        "           tf.keras.metrics.Recall(),\n",
        "           tf.keras.metrics.CategoricalAccuracy()\n",
        "           ]"
      ],
      "execution_count": null,
      "outputs": []
    },
    {
      "cell_type": "code",
      "metadata": {
        "id": "vC-5lFN0PSoP",
        "colab": {
          "base_uri": "https://localhost:8080/"
        },
        "outputId": "86e7aae7-68b1-4e1a-a19c-9b3d7e0ac402"
      },
      "source": [
        "# compile model\n",
        "n_epochs = 2\n",
        "model.compile(optimizer='adam',\n",
        "              loss='binary_crossentropy',\n",
        "              metrics=['accuracy'])\n",
        "\n",
        "# fit model\n",
        "history = model.fit(train_dataset, epochs=n_epochs,\n",
        "                    validation_data=eval_dataset)\n",
        "\n",
        "model.evaluate(test_dataset, batch_size=64)"
      ],
      "execution_count": null,
      "outputs": [
        {
          "output_type": "stream",
          "text": [
            "Epoch 1/10\n"
          ],
          "name": "stdout"
        }
      ]
    },
    {
      "cell_type": "code",
      "metadata": {
        "id": "SDJAlyLJPSoQ"
      },
      "source": [
        "# setup plot\n",
        "fig, ax = plt.subplots(nrows=1, ncols=2,figsize=(16,4))\n",
        "\n",
        "# plot loss\n",
        "ax[0].plot(range(n_epochs), history.history['loss'])\n",
        "ax[0].plot(range(n_epochs), history.history['val_loss'])\n",
        "ax[0].set_ylabel('loss'), ax[0].set_title('train_loss vs val_loss')\n",
        "\n",
        "# plot accuracy\n",
        "ax[1].plot(range(n_epochs), history.history['categorical_accuracy'])\n",
        "ax[1].plot(range(n_epochs), history.history['val_categorical_accuracy'])\n",
        "ax[1].set_ylabel('accuracy'), ax[1].set_title('train_acc vs val_acc')\n",
        "\n",
        "# plot adjustement\n",
        "for a in ax:\n",
        "    a.grid(True)\n",
        "    a.legend(['train','val'], loc=4)\n",
        "    a.set_xlabel('num of Epochs')\n",
        "plt.show()\n"
      ],
      "execution_count": null,
      "outputs": []
    }
  ]
}