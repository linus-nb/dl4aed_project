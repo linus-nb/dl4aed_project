{
  "nbformat": 4,
  "nbformat_minor": 0,
  "metadata": {
    "orig_nbformat": 2,
    "colab": {
      "name": "DLNet.ipynb",
      "provenance": [],
      "toc_visible": true
    },
    "kernelspec": {
      "name": "python3",
      "display_name": "Python 3"
    },
    "accelerator": "GPU"
  },
  "cells": [
    {
      "cell_type": "markdown",
      "metadata": {
        "id": "4gd2EjmDhoEl"
      },
      "source": [
        "### Mount drive to datasets:"
      ]
    },
    {
      "cell_type": "code",
      "metadata": {
        "id": "D2kZTqtHPXRH",
        "colab": {
          "base_uri": "https://localhost:8080/"
        },
        "outputId": "592f3fd2-8af9-4069-875e-2be2fc5d9ca5"
      },
      "source": [
        "from google.colab import drive\n",
        "drive.mount('/content/drive')"
      ],
      "execution_count": 1,
      "outputs": [
        {
          "output_type": "stream",
          "text": [
            "Drive already mounted at /content/drive; to attempt to forcibly remount, call drive.mount(\"/content/drive\", force_remount=True).\n"
          ],
          "name": "stdout"
        }
      ]
    },
    {
      "cell_type": "markdown",
      "metadata": {
        "id": "_KDqTnB4hu15"
      },
      "source": [
        "### Import libraries and set `DATA_PATH`:"
      ]
    },
    {
      "cell_type": "code",
      "metadata": {
        "id": "_y0MuZpvPSoG"
      },
      "source": [
        "from pathlib import Path\n",
        "import json\n",
        "import glob\n",
        "import numpy as np\n",
        "import librosa\n",
        "import os\n",
        "from librosa import display\n",
        "import matplotlib.pyplot as plt\n",
        "import tensorflow as tf\n",
        "from time import strftime\n",
        "assert tf.__version__ >= \"2.0\"\n",
        "# autotune computation\n",
        "AUTOTUNE = tf.data.experimental.AUTOTUNE\n",
        "DATA_PATH = '/content/drive/MyDrive'"
      ],
      "execution_count": 2,
      "outputs": []
    },
    {
      "cell_type": "markdown",
      "metadata": {
        "id": "8yn_Zm1eh7Rd"
      },
      "source": [
        "### All paths to possible codecs:\n",
        "All codec datasets are created for a binary problem. <br>\n",
        "See configs in DLNet_config.json for details."
      ]
    },
    {
      "cell_type": "code",
      "metadata": {
        "id": "NwA9IoGvXyT0"
      },
      "source": [
        "# Path to datasets:\n",
        "# Full dataset (with all codecs)\n",
        "path_medley_train = os.path.join(DATA_PATH, 'tf_dataset_MedleyDB_small', 'MedleyDB_train_set')\n",
        "path_medley_test = os.path.join(DATA_PATH, 'tf_dataset_MedleyDB_small', 'MedleyDB_test_set')"
      ],
      "execution_count": 3,
      "outputs": []
    },
    {
      "cell_type": "markdown",
      "metadata": {
        "id": "im76779riuFO"
      },
      "source": [
        "### Read `config` and create `wrapper` object:\n",
        "Each dataset has a config file included with the dataset configurations.<br>\n",
        "Dataset configurations have to match to concatenate the datasets later."
      ]
    },
    {
      "cell_type": "code",
      "metadata": {
        "id": "-U5gsogwPSoL",
        "colab": {
          "base_uri": "https://localhost:8080/"
        },
        "outputId": "03867e28-77a4-4b9f-a98b-88d6188d2c6a"
      },
      "source": [
        " # Read configs from dataset:\n",
        "json_file_codec =  os.path.join(os.path.split(path_medley_train)[0], 'DLNet_config.json')\n",
        "with open(json_file_codec, \"r\") as read_file:\n",
        "            config = json.load(read_file)\n",
        "# Print Config:\n",
        "print(json.dumps(config, sort_keys=False, indent=4))"
      ],
      "execution_count": 4,
      "outputs": [
        {
          "output_type": "stream",
          "text": [
            "{\n",
            "    \"audio_length\": 1,\n",
            "    \"binary\": false,\n",
            "    \"calculate_mel\": false,\n",
            "    \"center\": true,\n",
            "    \"classes\": [\n",
            "        \"mp3_32k\",\n",
            "        \"mp3_160k\",\n",
            "        \"mp3_192k\",\n",
            "        \"mp3_320k\",\n",
            "        \"aac_128\",\n",
            "        \"ogg_vbr\",\n",
            "        \"uncompr_wav\"\n",
            "    ],\n",
            "    \"filter_signal\": false,\n",
            "    \"hop_length\": 256,\n",
            "    \"input_shape\": [\n",
            "        513,\n",
            "        173,\n",
            "        1\n",
            "    ],\n",
            "    \"mono\": true,\n",
            "    \"n_fft\": 1024,\n",
            "    \"n_frames\": 173,\n",
            "    \"n_mels\": 64,\n",
            "    \"pad_mode\": \"reflect\",\n",
            "    \"power\": 2.0,\n",
            "    \"random_seed\": 10,\n",
            "    \"sr\": 44100,\n",
            "    \"time_stamp\": \"17_02_2021_22_17\",\n",
            "    \"win_length\": 512,\n",
            "    \"window\": \"hamm\"\n",
            "}\n"
          ],
          "name": "stdout"
        }
      ]
    },
    {
      "cell_type": "markdown",
      "metadata": {
        "id": "aM8gxj4ajdqQ"
      },
      "source": [
        "### Load chosen datasets and concatenate them:"
      ]
    },
    {
      "cell_type": "code",
      "metadata": {
        "id": "FeMDGkRMXjHP"
      },
      "source": [
        "# Load dataset:\n",
        "# Codec1: (Compressed)\n",
        "train_dataset = tf.data.experimental.load(path_medley_train,\n",
        "                        (tf.TensorSpec(config['input_shape'],\n",
        "                                       dtype=tf.float32, name=None),\n",
        "                         tf.TensorSpec(len(config['classes']),\n",
        "                                       dtype=tf.uint8, name=None)),\n",
        "                        compression='GZIP')\n",
        "test_dataset = tf.data.experimental.load(path_medley_test,\n",
        "                        (tf.TensorSpec(config['input_shape'],\n",
        "                                       dtype=tf.float32, name=None),\n",
        "                         tf.TensorSpec(len(config['classes']),\n",
        "                                       dtype=tf.uint8, name=None)),\n",
        "                        compression='GZIP')\n"
      ],
      "execution_count": 5,
      "outputs": []
    },
    {
      "cell_type": "markdown",
      "metadata": {
        "id": "Ml1i2p3tjnOP"
      },
      "source": [
        "### Print dataset info:"
      ]
    },
    {
      "cell_type": "code",
      "metadata": {
        "colab": {
          "base_uri": "https://localhost:8080/"
        },
        "id": "eR9MpUUkc1Wr",
        "outputId": "71d9e7cb-2bcd-4051-d3a4-9c14f99c6965"
      },
      "source": [
        "print(train_dataset)\n",
        "print(len(train_dataset))\n",
        "print(test_dataset)\n",
        "print(len(test_dataset))"
      ],
      "execution_count": 6,
      "outputs": [
        {
          "output_type": "stream",
          "text": [
            "<_LoadDataset shapes: ((513, 173, 1), (7,)), types: (tf.float32, tf.uint8)>\n",
            "9800\n",
            "<_LoadDataset shapes: ((513, 173, 1), (7,)), types: (tf.float32, tf.uint8)>\n",
            "2450\n"
          ],
          "name": "stdout"
        }
      ]
    },
    {
      "cell_type": "markdown",
      "metadata": {
        "id": "L6L60LYGj19d"
      },
      "source": [
        "### Prepare datasets:\n",
        "\n",
        "\n",
        "*   Shuffle `train_dataset`\n",
        "*   Take 10 % of `train_dataset` for evaluation: `eval_dataset`\n",
        "*   Shuffle and batch rest of `train_dataset`\n",
        "*   Batch `test_dataset`\n",
        "*   Batch size: 64\n",
        "\n"
      ]
    },
    {
      "cell_type": "code",
      "metadata": {
        "id": "ocaBr3OiPSoO"
      },
      "source": [
        "train_size = len(train_dataset)\n",
        "test_size = len(test_dataset)\n",
        "eval_size = int(.1*train_size)\n",
        "batch_size = 64\n",
        "\n",
        "# Shuffel train data:\n",
        "train_dataset = train_dataset.shuffle(buffer_size=int(train_size/3))\n",
        "\n",
        "# Split train into train and eval set:\n",
        "eval_dataset = train_dataset.take(eval_size)\n",
        "eval_dataset = eval_dataset.batch(batch_size).prefetch(AUTOTUNE)\n",
        "\n",
        "# Train dataset\n",
        "train_dataset = train_dataset.skip(eval_size)\n",
        "train_dataset = train_dataset.shuffle(train_size - eval_size)\n",
        "train_dataset = train_dataset.batch(batch_size)\n",
        "train_dataset = train_dataset.prefetch(AUTOTUNE)\n",
        "\n",
        "# Prepare test dataset\n",
        "test_dataset = test_dataset.batch(batch_size).prefetch(AUTOTUNE)\n"
      ],
      "execution_count": 7,
      "outputs": []
    },
    {
      "cell_type": "markdown",
      "metadata": {
        "id": "ekQWRjrOkqjJ"
      },
      "source": [
        "### Create and compile CNN Model:"
      ]
    },
    {
      "cell_type": "code",
      "metadata": {
        "id": "zum-gT5ZRIX3"
      },
      "source": [
        "model = tf.keras.Sequential()\n",
        "model.add(tf.keras.Input(shape=config['input_shape']))\n",
        "model.add(tf.keras.layers.BatchNormalization())\n",
        "model.add(tf.keras.layers.Conv2D(16, (3, 3), activation=\"relu\"))\n",
        "model.add(tf.keras.layers.MaxPool2D(pool_size=(2, 2)))\n",
        "model.add(tf.keras.layers.Conv2D(16, (3, 3), activation=\"relu\"))\n",
        "model.add(tf.keras.layers.MaxPool2D(pool_size=(2, 2)))\n",
        "model.add(tf.keras.layers.Conv2D(16, (3, 3), activation=\"relu\"))\n",
        "model.add(tf.keras.layers.MaxPool2D(pool_size=(2, 2)))\n",
        "model.add(tf.keras.layers.Conv2D(16, (3, 3), activation=\"relu\"))\n",
        "model.add(tf.keras.layers.MaxPool2D(pool_size=(2, 2)))\n",
        "model.add(tf.keras.layers.GlobalMaxPool2D())\n",
        "model.add(tf.keras.layers.Dense(256, activation=\"relu\"))\n",
        "model.add(tf.keras.layers.GaussianDropout(0.25))\n",
        "model.add(tf.keras.layers.Dense(256, activation=\"relu\"))\n",
        "model.add(tf.keras.layers.GaussianDropout(0.25))\n",
        "model.add(tf.keras.layers.Dense(len(config['classes']), activation=\"softmax\"))\n",
        "\n",
        "# Define metrics\n",
        "metrics = [tf.keras.metrics.TrueNegatives(),\n",
        "           tf.keras.metrics.TruePositives(),\n",
        "           tf.keras.metrics.FalseNegatives(),\n",
        "           tf.keras.metrics.FalsePositives(),\n",
        "           tf.keras.metrics.Precision(),\n",
        "           tf.keras.metrics.Recall(),\n",
        "           tf.keras.metrics.CategoricalAccuracy()\n",
        "           ]\n",
        "\n",
        "# compile model\n",
        "model.compile(optimizer='adam',\n",
        "              loss='categorical_crossentropy',\n",
        "              metrics=metrics)"
      ],
      "execution_count": 8,
      "outputs": []
    },
    {
      "cell_type": "markdown",
      "metadata": {
        "id": "avCQK_89ksTr"
      },
      "source": [
        "### Train and evaluate model:"
      ]
    },
    {
      "cell_type": "code",
      "metadata": {
        "id": "vC-5lFN0PSoP",
        "colab": {
          "base_uri": "https://localhost:8080/"
        },
        "outputId": "fef35078-777d-49a0-8fbb-d0dfc32c2571"
      },
      "source": [
        "# fit model\n",
        "n_epochs = 17\n",
        "history = model.fit(train_dataset, epochs=n_epochs,\n",
        "                    validation_data=eval_dataset, verbose=1)\n",
        "\n",
        "model.evaluate(test_dataset, batch_size=64)"
      ],
      "execution_count": 9,
      "outputs": [
        {
          "output_type": "stream",
          "text": [
            "Epoch 1/17\n",
            "138/138 [==============================] - 99s 239ms/step - loss: 1.7750 - true_negatives: 26843.5683 - true_positives: 365.8345 - false_negatives: 4113.5324 - false_positives: 32.6331 - precision: 0.7505 - recall: 0.0576 - categorical_accuracy: 0.2678 - val_loss: 1.8612 - val_true_negatives: 5860.0000 - val_true_positives: 0.0000e+00 - val_false_negatives: 980.0000 - val_false_positives: 20.0000 - val_precision: 0.0000e+00 - val_recall: 0.0000e+00 - val_categorical_accuracy: 0.0214\n",
            "Epoch 2/17\n",
            "138/138 [==============================] - 49s 164ms/step - loss: 1.3170 - true_negatives: 26730.3741 - true_positives: 1192.9424 - false_negatives: 3286.4245 - false_positives: 145.8273 - precision: 0.8943 - recall: 0.2479 - categorical_accuracy: 0.4520 - val_loss: 1.6047 - val_true_negatives: 5841.0000 - val_true_positives: 0.0000e+00 - val_false_negatives: 980.0000 - val_false_positives: 39.0000 - val_precision: 0.0000e+00 - val_recall: 0.0000e+00 - val_categorical_accuracy: 0.3153\n",
            "Epoch 3/17\n",
            "138/138 [==============================] - 53s 164ms/step - loss: 1.0405 - true_negatives: 26670.4892 - true_positives: 1797.6619 - false_negatives: 2681.7050 - false_positives: 205.7122 - precision: 0.8900 - recall: 0.3983 - categorical_accuracy: 0.5632 - val_loss: 1.5558 - val_true_negatives: 5786.0000 - val_true_positives: 6.0000 - val_false_negatives: 974.0000 - val_false_positives: 94.0000 - val_precision: 0.0600 - val_recall: 0.0061 - val_categorical_accuracy: 0.2184\n",
            "Epoch 4/17\n",
            "138/138 [==============================] - 48s 166ms/step - loss: 0.9153 - true_negatives: 26614.7554 - true_positives: 2085.9928 - false_negatives: 2393.3741 - false_positives: 261.4460 - precision: 0.8887 - recall: 0.4556 - categorical_accuracy: 0.6165 - val_loss: 1.5282 - val_true_negatives: 5743.0000 - val_true_positives: 27.0000 - val_false_negatives: 953.0000 - val_false_positives: 137.0000 - val_precision: 0.1646 - val_recall: 0.0276 - val_categorical_accuracy: 0.2684\n",
            "Epoch 5/17\n",
            "138/138 [==============================] - 48s 166ms/step - loss: 0.7889 - true_negatives: 26540.8345 - true_positives: 2402.7842 - false_negatives: 2076.5827 - false_positives: 335.3669 - precision: 0.8782 - recall: 0.5376 - categorical_accuracy: 0.6736 - val_loss: 1.3790 - val_true_negatives: 5754.0000 - val_true_positives: 51.0000 - val_false_negatives: 929.0000 - val_false_positives: 126.0000 - val_precision: 0.2881 - val_recall: 0.0520 - val_categorical_accuracy: 0.3327\n",
            "Epoch 6/17\n",
            "138/138 [==============================] - 48s 165ms/step - loss: 0.7197 - true_negatives: 26511.9281 - true_positives: 2553.2302 - false_negatives: 1926.1367 - false_positives: 364.2734 - precision: 0.8765 - recall: 0.5666 - categorical_accuracy: 0.7018 - val_loss: 1.3139 - val_true_negatives: 5697.0000 - val_true_positives: 134.0000 - val_false_negatives: 846.0000 - val_false_positives: 183.0000 - val_precision: 0.4227 - val_recall: 0.1367 - val_categorical_accuracy: 0.3592\n",
            "Epoch 7/17\n",
            "138/138 [==============================] - 48s 165ms/step - loss: 0.6521 - true_negatives: 26473.1583 - true_positives: 2741.9353 - false_negatives: 1737.4317 - false_positives: 403.0432 - precision: 0.8686 - recall: 0.6074 - categorical_accuracy: 0.7297 - val_loss: 1.1412 - val_true_negatives: 5740.0000 - val_true_positives: 184.0000 - val_false_negatives: 796.0000 - val_false_positives: 140.0000 - val_precision: 0.5679 - val_recall: 0.1878 - val_categorical_accuracy: 0.4816\n",
            "Epoch 8/17\n",
            "138/138 [==============================] - 48s 165ms/step - loss: 0.6398 - true_negatives: 26472.8633 - true_positives: 2793.1367 - false_negatives: 1686.2302 - false_positives: 403.3381 - precision: 0.8713 - recall: 0.6171 - categorical_accuracy: 0.7288 - val_loss: 1.1401 - val_true_negatives: 5716.0000 - val_true_positives: 249.0000 - val_false_negatives: 731.0000 - val_false_positives: 164.0000 - val_precision: 0.6029 - val_recall: 0.2541 - val_categorical_accuracy: 0.4898\n",
            "Epoch 9/17\n",
            "138/138 [==============================] - 48s 165ms/step - loss: 0.5594 - true_negatives: 26457.4892 - true_positives: 3059.6259 - false_negatives: 1419.7410 - false_positives: 418.7122 - precision: 0.8838 - recall: 0.6849 - categorical_accuracy: 0.7704 - val_loss: 1.4467 - val_true_negatives: 5564.0000 - val_true_positives: 205.0000 - val_false_negatives: 775.0000 - val_false_positives: 316.0000 - val_precision: 0.3935 - val_recall: 0.2092 - val_categorical_accuracy: 0.3561\n",
            "Epoch 10/17\n",
            "138/138 [==============================] - 48s 165ms/step - loss: 0.5504 - true_negatives: 26428.8273 - true_positives: 3097.8777 - false_negatives: 1381.4892 - false_positives: 447.3741 - precision: 0.8728 - recall: 0.6851 - categorical_accuracy: 0.7684 - val_loss: 0.9424 - val_true_negatives: 5630.0000 - val_true_positives: 412.0000 - val_false_negatives: 568.0000 - val_false_positives: 250.0000 - val_precision: 0.6224 - val_recall: 0.4204 - val_categorical_accuracy: 0.5541\n",
            "Epoch 11/17\n",
            "138/138 [==============================] - 48s 167ms/step - loss: 0.5044 - true_negatives: 26407.4029 - true_positives: 3231.7122 - false_negatives: 1247.6547 - false_positives: 468.7986 - precision: 0.8744 - recall: 0.7201 - categorical_accuracy: 0.7904 - val_loss: 0.9660 - val_true_negatives: 5652.0000 - val_true_positives: 411.0000 - val_false_negatives: 569.0000 - val_false_positives: 228.0000 - val_precision: 0.6432 - val_recall: 0.4194 - val_categorical_accuracy: 0.5633\n",
            "Epoch 12/17\n",
            "138/138 [==============================] - 48s 165ms/step - loss: 0.4917 - true_negatives: 26403.8345 - true_positives: 3278.2662 - false_negatives: 1201.1007 - false_positives: 472.3669 - precision: 0.8719 - recall: 0.7321 - categorical_accuracy: 0.8002 - val_loss: 0.9722 - val_true_negatives: 5695.0000 - val_true_positives: 445.0000 - val_false_negatives: 535.0000 - val_false_positives: 185.0000 - val_precision: 0.7063 - val_recall: 0.4541 - val_categorical_accuracy: 0.6041\n",
            "Epoch 13/17\n",
            "138/138 [==============================] - 48s 164ms/step - loss: 0.4791 - true_negatives: 26409.7338 - true_positives: 3318.6259 - false_negatives: 1160.7410 - false_positives: 466.4676 - precision: 0.8789 - recall: 0.7462 - categorical_accuracy: 0.8092 - val_loss: 0.9270 - val_true_negatives: 5646.0000 - val_true_positives: 476.0000 - val_false_negatives: 504.0000 - val_false_positives: 234.0000 - val_precision: 0.6704 - val_recall: 0.4857 - val_categorical_accuracy: 0.5898\n",
            "Epoch 14/17\n",
            "138/138 [==============================] - 48s 165ms/step - loss: 0.4612 - true_negatives: 26435.3957 - true_positives: 3418.8921 - false_negatives: 1060.4748 - false_positives: 440.8058 - precision: 0.8850 - recall: 0.7602 - categorical_accuracy: 0.8168 - val_loss: 1.0405 - val_true_negatives: 5589.0000 - val_true_positives: 440.0000 - val_false_negatives: 540.0000 - val_false_positives: 291.0000 - val_precision: 0.6019 - val_recall: 0.4490 - val_categorical_accuracy: 0.5337\n",
            "Epoch 15/17\n",
            "138/138 [==============================] - 48s 165ms/step - loss: 0.4442 - true_negatives: 26415.0504 - true_positives: 3442.9856 - false_negatives: 1036.3813 - false_positives: 461.1511 - precision: 0.8839 - recall: 0.7689 - categorical_accuracy: 0.8189 - val_loss: 0.9293 - val_true_negatives: 5647.0000 - val_true_positives: 485.0000 - val_false_negatives: 495.0000 - val_false_positives: 233.0000 - val_precision: 0.6755 - val_recall: 0.4949 - val_categorical_accuracy: 0.5908\n",
            "Epoch 16/17\n",
            "138/138 [==============================] - 48s 165ms/step - loss: 0.4192 - true_negatives: 26411.6187 - true_positives: 3478.0647 - false_negatives: 1001.3022 - false_positives: 464.5827 - precision: 0.8818 - recall: 0.7782 - categorical_accuracy: 0.8287 - val_loss: 0.7787 - val_true_negatives: 5681.0000 - val_true_positives: 586.0000 - val_false_negatives: 394.0000 - val_false_positives: 199.0000 - val_precision: 0.7465 - val_recall: 0.5980 - val_categorical_accuracy: 0.6714\n",
            "Epoch 17/17\n",
            "138/138 [==============================] - 48s 166ms/step - loss: 0.4095 - true_negatives: 26405.8273 - true_positives: 3557.0935 - false_negatives: 922.2734 - false_positives: 470.3741 - precision: 0.8836 - recall: 0.7992 - categorical_accuracy: 0.8374 - val_loss: 0.7311 - val_true_negatives: 5695.0000 - val_true_positives: 573.0000 - val_false_negatives: 407.0000 - val_false_positives: 185.0000 - val_precision: 0.7559 - val_recall: 0.5847 - val_categorical_accuracy: 0.6827\n",
            "39/39 [==============================] - 11s 250ms/step - loss: 0.6400 - true_negatives: 14324.0000 - true_positives: 1698.0000 - false_negatives: 752.0000 - false_positives: 376.0000 - precision: 0.8187 - recall: 0.6931 - categorical_accuracy: 0.7453\n"
          ],
          "name": "stdout"
        },
        {
          "output_type": "execute_result",
          "data": {
            "text/plain": [
              "[0.6399754881858826,\n",
              " 14324.0,\n",
              " 1698.0,\n",
              " 752.0,\n",
              " 376.0,\n",
              " 0.8187078237533569,\n",
              " 0.6930612325668335,\n",
              " 0.745306134223938]"
            ]
          },
          "metadata": {
            "tags": []
          },
          "execution_count": 9
        }
      ]
    },
    {
      "cell_type": "code",
      "metadata": {
        "id": "SDJAlyLJPSoQ",
        "colab": {
          "base_uri": "https://localhost:8080/",
          "height": 295
        },
        "outputId": "57637bcc-700f-4450-e074-3ffceaa39e25"
      },
      "source": [
        "# setup plot\n",
        "fig, ax = plt.subplots(nrows=1, ncols=2,figsize=(16,4))\n",
        "\n",
        "# plot loss\n",
        "ax[0].plot(range(n_epochs), history.history['loss'])\n",
        "ax[0].plot(range(n_epochs), history.history['val_loss'])\n",
        "ax[0].set_ylabel('loss'), ax[0].set_title('train_loss vs val_loss')\n",
        "\n",
        "# plot accuracy\n",
        "ax[1].plot(range(n_epochs), history.history['categorical_accuracy'])\n",
        "ax[1].plot(range(n_epochs), history.history['val_categorical_accuracy'])\n",
        "ax[1].set_ylabel('accuracy'), ax[1].set_title('train_acc vs val_acc')\n",
        "\n",
        "# plot adjustement\n",
        "for a in ax:\n",
        "    a.grid(True)\n",
        "    a.legend(['train','val'], loc=4)\n",
        "    a.set_xlabel('num of Epochs')\n",
        "plt.show()\n"
      ],
      "execution_count": 11,
      "outputs": [
        {
          "output_type": "display_data",
          "data": {
            "image/png": "[encoded data removed]",
            "text/plain": [
              "<Figure size 1152x288 with 2 Axes>"
            ]
          },
          "metadata": {
            "tags": [],
            "needs_background": "light"
          }
        }
      ]
    },
    {
      "cell_type": "markdown",
      "metadata": {
        "id": "5m9mk8wqf4m4"
      },
      "source": [
        "### Model prediction as numpy arrays:"
      ]
    },
    {
      "cell_type": "code",
      "metadata": {
        "id": "Z2y1aUZVf2EQ"
      },
      "source": [
        "y_test_prob = model.predict(test_dataset)\n",
        "y_test_pred = np.argmax(y_test_prob, axis=1)\n",
        "y_test_true = np.argmax(np.array([y for x, y in test_dataset.unbatch().as_numpy_iterator()]), axis=1)"
      ],
      "execution_count": 12,
      "outputs": []
    },
    {
      "cell_type": "code",
      "metadata": {
        "colab": {
          "base_uri": "https://localhost:8080/",
          "height": 311
        },
        "id": "uGiNGBUI6AY6",
        "outputId": "411dd07b-c672-45a7-a674-4025d4c0d4f1"
      },
      "source": [
        "# Check label distribution in test set:\n",
        "plt.hist(y_test_true, align='mid', bins=range(len(config['classes'])+1), linewidth=1, color='black', edgecolor='red', rwidth=1, alpha=.8)\n",
        "plt.xticks([.5, 1.5, 2.5, 3.5, 4.5, 5.5, 6.5], config['classes'], rotation=45)\n",
        "plt.show()"
      ],
      "execution_count": 27,
      "outputs": [
        {
          "output_type": "display_data",
          "data": {
            "image/png": "[encoded data removed]",
            "text/plain": [
              "<Figure size 432x288 with 1 Axes>"
            ]
          },
          "metadata": {
            "tags": [],
            "needs_background": "light"
          }
        }
      ]
    },
    {
      "cell_type": "markdown",
      "metadata": {
        "id": "OMeUYne-fLin"
      },
      "source": [
        "### Print metrics with sklearn:"
      ]
    },
    {
      "cell_type": "code",
      "metadata": {
        "id": "KeN50E41e-QT",
        "colab": {
          "base_uri": "https://localhost:8080/"
        },
        "outputId": "4c9847b3-16c3-4d72-d847-ac9dd39c6eb4"
      },
      "source": [
        "from sklearn.metrics import classification_report\n",
        "\n",
        "print('Classification report:')\n",
        "print(classification_report(y_true=y_test_true, y_pred=y_test_pred,\n",
        "                            target_names=config['classes']))\n",
        "\n",
        "print('------------------------------------------------:')\n",
        "print('Evaluate model on test dataset:')\n",
        "hist_eval = model.evaluate(test_dataset)\n",
        "\n",
        "print('------------------------------------------------:')\n",
        "print('Evaluate model on eval dataset:')\n",
        "hist_eval = model.evaluate(eval_dataset)"
      ],
      "execution_count": 28,
      "outputs": [
        {
          "output_type": "stream",
          "text": [
            "Classification report:\n",
            "              precision    recall  f1-score   support\n",
            "\n",
            "     mp3_32k       1.00      1.00      1.00       350\n",
            "    mp3_160k       0.50      0.67      0.57       350\n",
            "    mp3_192k       0.55      0.34      0.42       350\n",
            "    mp3_320k       0.88      0.67      0.76       350\n",
            "     aac_128       0.96      0.96      0.96       350\n",
            "     ogg_vbr       0.51      0.67      0.58       350\n",
            " uncompr_wav       0.93      0.92      0.93       350\n",
            "\n",
            "    accuracy                           0.75      2450\n",
            "   macro avg       0.76      0.75      0.74      2450\n",
            "weighted avg       0.76      0.75      0.74      2450\n",
            "\n",
            "------------------------------------------------:\n",
            "Evaluate model on test dataset:\n",
            "39/39 [==============================] - 7s 185ms/step - loss: 0.6400 - true_negatives: 14324.0000 - true_positives: 1698.0000 - false_negatives: 752.0000 - false_positives: 376.0000 - precision: 0.8187 - recall: 0.6931 - categorical_accuracy: 0.7453\n",
            "------------------------------------------------:\n",
            "Evaluate model on eval dataset:\n",
            "16/16 [==============================] - 12s 183ms/step - loss: 0.7510 - true_negatives: 5679.0000 - true_positives: 559.0000 - false_negatives: 421.0000 - false_positives: 201.0000 - precision: 0.7355 - recall: 0.5704 - categorical_accuracy: 0.6663\n"
          ],
          "name": "stdout"
        }
      ]
    },
    {
      "cell_type": "markdown",
      "metadata": {
        "id": "g0QHbCHVfRYM"
      },
      "source": [
        "### Confusion Matrix:"
      ]
    },
    {
      "cell_type": "code",
      "metadata": {
        "id": "qeHmGGaWdKla",
        "colab": {
          "base_uri": "https://localhost:8080/",
          "height": 760
        },
        "outputId": "d47413cc-2461-4965-d814-53c0a4cd6a82"
      },
      "source": [
        "import itertools\n",
        "import matplotlib.pyplot as plt\n",
        "\n",
        "def plot_confusion_matrix(cm, classes,\n",
        "                          normalize=False,\n",
        "                          title='Confusion matrix',\n",
        "                          cmap=plt.cm.Blues):\n",
        "    \"\"\"\n",
        "    This function prints and plots the confusion matrix.\n",
        "    Normalization can be applied by setting `normalize=True`.\n",
        "    \"\"\"\n",
        "    plt.figure(figsize=(10, 10))\n",
        "    plt.imshow(cm, interpolation='nearest', cmap=cmap)\n",
        "    plt.title(title)\n",
        "    tick_marks = np.arange(len(classes))\n",
        "    plt.xticks(tick_marks, classes, rotation=45)\n",
        "    plt.yticks(tick_marks, classes)\n",
        "\n",
        "    if normalize:\n",
        "        cm = cm.astype('float') / cm.sum(axis=1)[:, np.newaxis]\n",
        "        print(\"Normalized confusion matrix\")\n",
        "    else:\n",
        "        print('Confusion matrix, without normalization')\n",
        "\n",
        "    thresh = cm.max() / 2.\n",
        "    for i, j in itertools.product(range(cm.shape[0]), range(cm.shape[1])):\n",
        "        plt.text(j, i, cm[i, j],\n",
        "            horizontalalignment=\"center\",\n",
        "            color=\"white\" if cm[i, j] > thresh else \"black\")\n",
        "\n",
        "    plt.tight_layout()\n",
        "    plt.ylabel('True label'), plt.xlabel('Predicted label')\n",
        "\n",
        "# call confusion matrix\n",
        "cm = tf.math.confusion_matrix(labels=y_test_true, predictions=y_test_pred)\n",
        "cm = cm.numpy()\n",
        "plot_confusion_matrix(cm, classes=config['classes'], normalize=False,\n",
        "                      title='Confusion matrix', cmap=plt.cm.Blues)"
      ],
      "execution_count": 29,
      "outputs": [
        {
          "output_type": "stream",
          "text": [
            "Confusion matrix, without normalization\n"
          ],
          "name": "stdout"
        },
        {
          "output_type": "display_data",
          "data": {
            "image/png": "[encoded data removed]",
            "text/plain": [
              "<Figure size 720x720 with 1 Axes>"
            ]
          },
          "metadata": {
            "tags": [],
            "needs_background": "light"
          }
        }
      ]
    }
  ]
}