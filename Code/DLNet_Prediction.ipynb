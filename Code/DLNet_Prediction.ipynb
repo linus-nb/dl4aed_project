{
  "nbformat": 4,
  "nbformat_minor": 0,
  "metadata": {
    "orig_nbformat": 2,
    "colab": {
      "name": "DLNet.ipynb",
      "provenance": [],
      "history_visible": true
    },
    "kernelspec": {
      "name": "python3",
      "display_name": "Python 3"
    },
    "accelerator": "GPU"
  },
  "cells": [
    {
      "cell_type": "markdown",
      "metadata": {
        "id": "4gd2EjmDhoEl"
      },
      "source": [
        "## 0.0 **Mount drive to datasets:**"
      ]
    },
    {
      "cell_type": "code",
      "metadata": {
        "id": "D2kZTqtHPXRH",
        "colab": {
          "base_uri": "https://localhost:8080/"
        },
        "outputId": "f1967b86-b56c-4e40-f6c3-de5baac11c56"
      },
      "source": [
        "from google.colab import drive\n",
        "drive.mount('/content/drive')"
      ],
      "execution_count": 1,
      "outputs": [
        {
          "output_type": "stream",
          "text": [
            "Mounted at /content/drive\n"
          ],
          "name": "stdout"
        }
      ]
    },
    {
      "cell_type": "markdown",
      "metadata": {
        "id": "_KDqTnB4hu15"
      },
      "source": [
        "## **0.1 Import libraries and set `DATA_PATH`:**"
      ]
    },
    {
      "cell_type": "code",
      "metadata": {
        "id": "_y0MuZpvPSoG"
      },
      "source": [
        "import json\n",
        "import numpy as np\n",
        "import os\n",
        "import matplotlib.pyplot as plt\n",
        "import tensorflow as tf\n",
        "from time import strftime\n",
        "assert tf.__version__ >= \"2.0\"\n",
        "import io\n",
        "import itertools\n",
        "from sklearn.metrics import classification_report\n",
        "\n",
        "# autotune computation\n",
        "AUTOTUNE = tf.data.experimental.AUTOTUNE\n",
        "\n",
        "# Data directory\n",
        "DATA_PATH = '/content/drive/MyDrive'\n",
        "\n",
        "# Random seed:\n",
        "RANDOM_SEED = 1\n",
        "\n",
        "def plot_confusion_matrix(cm, classes,\n",
        "                          normalize=False,\n",
        "                          title='Confusion matrix',\n",
        "                          cmap=plt.cm.Blues):\n",
        "    \"\"\"\n",
        "    This function prints and plots the confusion matrix.\n",
        "    Normalization can be applied by setting `normalize=True`.\n",
        "    \"\"\"\n",
        "    plt.figure(figsize=(10, 10))\n",
        "    plt.imshow(cm, interpolation='nearest', cmap=cmap)\n",
        "    plt.title(title)\n",
        "    tick_marks = np.arange(len(classes))\n",
        "    plt.xticks(tick_marks, classes, rotation=45)\n",
        "    plt.yticks(tick_marks, classes)\n",
        "\n",
        "    if normalize:\n",
        "        cm = cm.astype('float') / cm.sum(axis=1)[:, np.newaxis]\n",
        "        print(\"Normalized confusion matrix\")\n",
        "    else:\n",
        "        print('Confusion matrix, without normalization')\n",
        "\n",
        "    thresh = cm.max() / 2.\n",
        "    for i, j in itertools.product(range(cm.shape[0]), range(cm.shape[1])):\n",
        "        plt.text(j, i, cm[i, j],\n",
        "            horizontalalignment=\"center\",\n",
        "            color=\"white\" if cm[i, j] > thresh else \"black\")\n",
        "\n",
        "    plt.tight_layout()\n",
        "    plt.ylabel('True label'), plt.xlabel('Predicted label')\n"
      ],
      "execution_count": 42,
      "outputs": []
    },
    {
      "cell_type": "markdown",
      "metadata": {
        "id": "8yn_Zm1eh7Rd"
      },
      "source": [
        "## **0.2 Paths to datasets:**"
      ]
    },
    {
      "cell_type": "code",
      "metadata": {
        "id": "NwA9IoGvXyT0"
      },
      "source": [
        "# Path to datasets:\n",
        "# Full dataset (with all codecs)\n",
        "dataset_name = 'tf_dataset_OtherWAV_small_highpass'\n",
        "path_train = os.path.join(DATA_PATH, dataset_name, 'OtherWAV_train_set')\n",
        "path_test = os.path.join(DATA_PATH, dataset_name, 'OtherWAV_test_set')"
      ],
      "execution_count": 47,
      "outputs": []
    },
    {
      "cell_type": "markdown",
      "metadata": {
        "id": "im76779riuFO"
      },
      "source": [
        "## **0.3 Read and show `config`:**\n"
      ]
    },
    {
      "cell_type": "code",
      "metadata": {
        "id": "-U5gsogwPSoL",
        "colab": {
          "base_uri": "https://localhost:8080/"
        },
        "outputId": "bd59746a-4227-40f0-8895-bb82e5602d97"
      },
      "source": [
        " # Read configs from dataset:\n",
        "json_file_codec =  os.path.join(os.path.split(path_train)[0], 'DLNet_config.json')\n",
        "with open(json_file_codec, \"r\") as read_file:\n",
        "            config = json.load(read_file)\n",
        "# Print Config:\n",
        "print(json.dumps(config, sort_keys=False, indent=4))"
      ],
      "execution_count": 48,
      "outputs": [
        {
          "output_type": "stream",
          "text": [
            "{\n",
            "    \"audio_length\": 1,\n",
            "    \"binary\": false,\n",
            "    \"calculate_mel\": false,\n",
            "    \"center\": true,\n",
            "    \"classes\": [\n",
            "        \"mp3_32k\",\n",
            "        \"mp3_160k\",\n",
            "        \"mp3_192k\",\n",
            "        \"mp3_320k\",\n",
            "        \"aac_128\",\n",
            "        \"ogg_vbr\",\n",
            "        \"uncompr_wav\"\n",
            "    ],\n",
            "    \"filter_config\": [\n",
            "        \"high\",\n",
            "        4000\n",
            "    ],\n",
            "    \"filter_signal\": true,\n",
            "    \"hop_length\": 256,\n",
            "    \"input_shape\": [\n",
            "        420,\n",
            "        173,\n",
            "        1\n",
            "    ],\n",
            "    \"mono\": true,\n",
            "    \"n_fft\": 1024,\n",
            "    \"n_frames\": 173,\n",
            "    \"n_mels\": 64,\n",
            "    \"pad_mode\": \"reflect\",\n",
            "    \"power\": 2.0,\n",
            "    \"random_seed\": 10,\n",
            "    \"sr\": 44100,\n",
            "    \"time_stamp\": \"20_02_2021_14_42\",\n",
            "    \"win_length\": 512,\n",
            "    \"window\": \"hamm\"\n",
            "}\n"
          ],
          "name": "stdout"
        }
      ]
    },
    {
      "cell_type": "markdown",
      "metadata": {
        "id": "aM8gxj4ajdqQ"
      },
      "source": [
        "## **1.0 Load datasets:**\n",
        "Print dataset info"
      ]
    },
    {
      "cell_type": "code",
      "metadata": {
        "id": "FeMDGkRMXjHP",
        "colab": {
          "base_uri": "https://localhost:8080/"
        },
        "outputId": "6cda993f-ca62-49af-b1aa-dcbeda0c76b3"
      },
      "source": [
        "# Load dataset:\n",
        "# Codec1: (Compressed)\n",
        "train_dataset = tf.data.experimental.load(path_train,\n",
        "                        (tf.TensorSpec(config['input_shape'],\n",
        "                                       dtype=tf.float32, name=None),\n",
        "                         tf.TensorSpec(len(config['classes']),\n",
        "                                       dtype=tf.uint8, name=None)),\n",
        "                        compression='GZIP')\n",
        "test_dataset = tf.data.experimental.load(path_test,\n",
        "                        (tf.TensorSpec(config['input_shape'],\n",
        "                                       dtype=tf.float32, name=None),\n",
        "                         tf.TensorSpec(len(config['classes']),\n",
        "                                       dtype=tf.uint8, name=None)),\n",
        "                        compression='GZIP')\n",
        "\n",
        "print(train_dataset)\n",
        "print(f'Elements in dataset: {len(train_dataset)}')\n",
        "print(test_dataset)\n",
        "print(f'Elements in dataset: {len(test_dataset)}')\n"
      ],
      "execution_count": 74,
      "outputs": [
        {
          "output_type": "stream",
          "text": [
            "<_LoadDataset shapes: ((420, 173, 1), (7,)), types: (tf.float32, tf.uint8)>\n",
            "Elements in dataset: 9800\n",
            "<_LoadDataset shapes: ((420, 173, 1), (7,)), types: (tf.float32, tf.uint8)>\n",
            "Elements in dataset: 2450\n"
          ],
          "name": "stdout"
        }
      ]
    },
    {
      "cell_type": "markdown",
      "metadata": {
        "id": "L6L60LYGj19d"
      },
      "source": [
        "### 1.1 Prepare datasets:\n",
        "\n",
        "\n",
        "*   Shuffle `train_dataset`\n",
        "*   Take 10 % of `train_dataset` for evaluation: `eval_dataset`\n",
        "*   Shuffle and batch rest of `train_dataset`\n",
        "*   Batch `test_dataset`\n",
        "*   Batch size: 64\n",
        "\n"
      ]
    },
    {
      "cell_type": "code",
      "metadata": {
        "id": "ocaBr3OiPSoO"
      },
      "source": [
        "train_size = len(train_dataset)\n",
        "test_size = len(test_dataset)\n",
        "eval_size = int(.1*train_size)\n",
        "batch_size = 64\n",
        "\n",
        "# Shuffel train data:\n",
        "train_dataset = train_dataset.shuffle(buffer_size=train_size, seed=RANDOM_SEED)\n",
        "\n",
        "# Split train into train and eval set:\n",
        "eval_dataset = train_dataset.take(eval_size)\n",
        "eval_dataset = eval_dataset.batch(batch_size).prefetch(AUTOTUNE)\n",
        "\n",
        "# Train dataset\n",
        "train_dataset = train_dataset.skip(eval_size)\n",
        "train_dataset = train_dataset.shuffle(buffer_size=(train_size - eval_size),\n",
        "                                      seed=RANDOM_SEED)\n",
        "train_dataset = train_dataset.batch(batch_size)\n",
        "train_dataset = train_dataset.prefetch(AUTOTUNE)\n",
        "\n",
        "# Prepare test dataset\n",
        "test_dataset = test_dataset.batch(batch_size).prefetch(AUTOTUNE)\n"
      ],
      "execution_count": 75,
      "outputs": []
    },
    {
      "cell_type": "markdown",
      "metadata": {
        "id": "s7gnCw8wFMKT"
      },
      "source": [
        "### 2.3 Callback Confusion Matrix"
      ]
    },
    {
      "cell_type": "code",
      "metadata": {
        "id": "FSdCS59E_Ps8"
      },
      "source": [
        "# Define metrics\n",
        "metrics = [tf.keras.metrics.TrueNegatives(),\n",
        "           tf.keras.metrics.TruePositives(),\n",
        "           tf.keras.metrics.FalseNegatives(),\n",
        "           tf.keras.metrics.FalsePositives(),\n",
        "           tf.keras.metrics.Precision(),\n",
        "           tf.keras.metrics.Recall(),\n",
        "           tf.keras.metrics.CategoricalAccuracy()\n",
        "           ]"
      ],
      "execution_count": 31,
      "outputs": []
    },
    {
      "cell_type": "code",
      "metadata": {
        "id": "ADlYcFfnAomp",
        "outputId": "b941e967-a6d2-42bc-d16d-4e8d09f9313c",
        "colab": {
          "base_uri": "https://localhost:8080/"
        }
      },
      "source": [
        "# Load\n",
        "trained_model = tf.keras.models.load_model(os.path.join(DATA_PATH, 'best_model_trained.h5'))\n",
        "untrained_model = tf.keras.models.load_model(os.path.join(DATA_PATH, 'best_model.h5'))\n",
        "# Summary\n",
        "trained_model.summary()"
      ],
      "execution_count": 76,
      "outputs": [
        {
          "output_type": "stream",
          "text": [
            "WARNING:tensorflow:Error in loading the saved optimizer state. As a result, your model is starting with a freshly initialized optimizer.\n",
            "Model: \"sequential\"\n",
            "_________________________________________________________________\n",
            "Layer (type)                 Output Shape              Param #   \n",
            "=================================================================\n",
            "batch_normalization (BatchNo (None, 420, 173, 1)       4         \n",
            "_________________________________________________________________\n",
            "conv_layer1 (Conv2D)         (None, 411, 170, 16)      656       \n",
            "_________________________________________________________________\n",
            "maxpool_layer1 (MaxPooling2D (None, 205, 85, 16)       0         \n",
            "_________________________________________________________________\n",
            "conv_layer2 (Conv2D)         (None, 196, 82, 32)       20512     \n",
            "_________________________________________________________________\n",
            "maxpool_layer2 (MaxPooling2D (None, 98, 41, 32)        0         \n",
            "_________________________________________________________________\n",
            "conv_layer3 (Conv2D)         (None, 89, 38, 32)        40992     \n",
            "_________________________________________________________________\n",
            "maxpool_layer3 (MaxPooling2D (None, 44, 19, 32)        0         \n",
            "_________________________________________________________________\n",
            "conv_layer4 (Conv2D)         (None, 35, 16, 56)        71736     \n",
            "_________________________________________________________________\n",
            "maxpool_layer4 (MaxPooling2D (None, 17, 8, 56)         0         \n",
            "_________________________________________________________________\n",
            "global_max_pooling2d (Global (None, 56)                0         \n",
            "_________________________________________________________________\n",
            "dense (Dense)                (None, 256)               14592     \n",
            "_________________________________________________________________\n",
            "gaussian_dropout (GaussianDr (None, 256)               0         \n",
            "_________________________________________________________________\n",
            "dense_1 (Dense)              (None, 256)               65792     \n",
            "_________________________________________________________________\n",
            "gaussian_dropout_1 (Gaussian (None, 256)               0         \n",
            "_________________________________________________________________\n",
            "dense_2 (Dense)              (None, 7)                 1799      \n",
            "=================================================================\n",
            "Total params: 216,083\n",
            "Trainable params: 216,081\n",
            "Non-trainable params: 2\n",
            "_________________________________________________________________\n"
          ],
          "name": "stdout"
        }
      ]
    },
    {
      "cell_type": "markdown",
      "metadata": {
        "id": "_ss82Gt0Yzok"
      },
      "source": [
        "## 7.0 Prediction"
      ]
    },
    {
      "cell_type": "code",
      "metadata": {
        "id": "OTLadgZKY41T",
        "outputId": "c050255a-477a-4843-b2c8-47bf8815aa88",
        "colab": {
          "base_uri": "https://localhost:8080/",
          "height": 1000
        }
      },
      "source": [
        "dataset = train_dataset.take(test_size)\n",
        "y_train_prob = trained_model.predict(dataset, batch_size=batch_size)\n",
        "y_train_pred = np.argmax(y_train_prob, axis=1)\n",
        "y_train_true = np.argmax(np.array([y for x, y in dataset.unbatch().as_numpy_iterator()]), axis=1)\n",
        "\n",
        "print('Classification report:')\n",
        "print(classification_report(y_true=y_train_true, y_pred=y_train_pred, target_names=config['classes']))\n",
        "\n",
        "print('------------------------------------------------:')\n",
        "print('Evaluate model on test dataset:')\n",
        "hist_eval = trained_model.evaluate(test_dataset)\n",
        "\n",
        "print('------------------------------------------------:')\n",
        "print('Evaluate model on eval dataset:')\n",
        "hist_eval = trained_model.evaluate(eval_dataset)\n",
        "\n",
        "# call confusion matrix\n",
        "cm = tf.math.confusion_matrix(labels=y_train_true, predictions=y_train_pred)\n",
        "cm = cm.numpy()\n",
        "plot_confusion_matrix(cm, classes=config['classes'], normalize=False, title='Confusion matrix', cmap=plt.cm.Blues)"
      ],
      "execution_count": 80,
      "outputs": [
        {
          "output_type": "stream",
          "text": [
            "Classification report:\n",
            "              precision    recall  f1-score   support\n",
            "\n",
            "     mp3_32k       0.15      0.17      0.16      1270\n",
            "    mp3_160k       0.14      0.16      0.15      1256\n",
            "    mp3_192k       0.14      0.14      0.14      1273\n",
            "    mp3_320k       0.14      0.14      0.14      1256\n",
            "     aac_128       0.15      0.15      0.15      1259\n",
            "     ogg_vbr       0.14      0.14      0.14      1256\n",
            " uncompr_wav       0.14      0.12      0.13      1250\n",
            "\n",
            "    accuracy                           0.15      8820\n",
            "   macro avg       0.15      0.15      0.15      8820\n",
            "weighted avg       0.15      0.15      0.15      8820\n",
            "\n",
            "------------------------------------------------:\n",
            "Evaluate model on test dataset:\n",
            "39/39 [==============================] - 16s 413ms/step - loss: 0.1363 - true_negatives_1: 14616.0000 - true_positives_1: 2361.0000 - false_negatives_1: 89.0000 - false_positives_1: 84.0000 - precision_1: 0.9656 - recall_1: 0.9637 - categorical_accuracy: 0.9641\n",
            "------------------------------------------------:\n",
            "Evaluate model on eval dataset:\n",
            "16/16 [==============================] - 47s 29ms/step - loss: 0.4631 - true_negatives_1: 5814.0000 - true_positives_1: 913.0000 - false_negatives_1: 67.0000 - false_positives_1: 66.0000 - precision_1: 0.9326 - recall_1: 0.9316 - categorical_accuracy: 0.9327\n",
            "Confusion matrix, without normalization\n"
          ],
          "name": "stdout"
        },
        {
          "output_type": "display_data",
          "data": {
            "image/png": "[encoded data removed]",
            "text/plain": [
              "<Figure size 720x720 with 1 Axes>"
            ]
          },
          "metadata": {
            "tags": [],
            "needs_background": "light"
          }
        }
      ]
    },
    {
      "cell_type": "code",
      "metadata": {
        "id": "pOh7D0YYCzxL",
        "outputId": "cf2588df-add2-4b36-9bde-b5aa333f5338",
        "colab": {
          "base_uri": "https://localhost:8080/",
          "height": 375
        }
      },
      "source": [
        "y_test_prob = model.predict(test_dataset, batch_size=batch_size)\n",
        "y_test_pred = np.argmax(y_test_prob, axis=1)\n",
        "y_test_true = np.argmax(np.array([y for x, y in test_dataset.unbatch().as_numpy_iterator()]), axis=1)\n",
        "\n",
        "\n",
        "print('Classification report:')\n",
        "print(classification_report(y_true=y_test_true, y_pred=y_test_pred, target_names=config['classes']))\n",
        "\n",
        "print('------------------------------------------------:')\n",
        "print('Evaluate model on test dataset:')\n",
        "hist_eval = model.evaluate(test_dataset)\n",
        "\n",
        "print('------------------------------------------------:')\n",
        "print('Evaluate model on eval dataset:')\n",
        "hist_eval = model.evaluate(eval_dataset)\n"
      ],
      "execution_count": 69,
      "outputs": [
        {
          "output_type": "error",
          "ename": "KeyboardInterrupt",
          "evalue": "ignored",
          "traceback": [
            "\u001b[0;31m---------------------------------------------------------------------------\u001b[0m",
            "\u001b[0;31mKeyboardInterrupt\u001b[0m                         Traceback (most recent call last)",
            "\u001b[0;32m<ipython-input-69-5882fc026c6f>\u001b[0m in \u001b[0;36m<module>\u001b[0;34m()\u001b[0m\n\u001b[1;32m      1\u001b[0m \u001b[0my_test_prob\u001b[0m \u001b[0;34m=\u001b[0m \u001b[0mmodel\u001b[0m\u001b[0;34m.\u001b[0m\u001b[0mpredict\u001b[0m\u001b[0;34m(\u001b[0m\u001b[0mtest_dataset\u001b[0m\u001b[0;34m.\u001b[0m\u001b[0mtake\u001b[0m\u001b[0;34m(\u001b[0m\u001b[0mtest_size\u001b[0m\u001b[0;34m)\u001b[0m\u001b[0;34m,\u001b[0m \u001b[0mbatch_size\u001b[0m\u001b[0;34m=\u001b[0m\u001b[0mbatch_size\u001b[0m\u001b[0;34m)\u001b[0m\u001b[0;34m\u001b[0m\u001b[0;34m\u001b[0m\u001b[0m\n\u001b[1;32m      2\u001b[0m \u001b[0my_test_pred\u001b[0m \u001b[0;34m=\u001b[0m \u001b[0mnp\u001b[0m\u001b[0;34m.\u001b[0m\u001b[0margmax\u001b[0m\u001b[0;34m(\u001b[0m\u001b[0my_test_prob\u001b[0m\u001b[0;34m,\u001b[0m \u001b[0maxis\u001b[0m\u001b[0;34m=\u001b[0m\u001b[0;36m1\u001b[0m\u001b[0;34m)\u001b[0m\u001b[0;34m\u001b[0m\u001b[0;34m\u001b[0m\u001b[0m\n\u001b[0;32m----> 3\u001b[0;31m \u001b[0my_test_true\u001b[0m \u001b[0;34m=\u001b[0m \u001b[0mnp\u001b[0m\u001b[0;34m.\u001b[0m\u001b[0margmax\u001b[0m\u001b[0;34m(\u001b[0m\u001b[0mnp\u001b[0m\u001b[0;34m.\u001b[0m\u001b[0marray\u001b[0m\u001b[0;34m(\u001b[0m\u001b[0;34m[\u001b[0m\u001b[0my\u001b[0m \u001b[0;32mfor\u001b[0m \u001b[0mx\u001b[0m\u001b[0;34m,\u001b[0m \u001b[0my\u001b[0m \u001b[0;32min\u001b[0m \u001b[0mtest_dataset\u001b[0m\u001b[0;34m.\u001b[0m\u001b[0munbatch\u001b[0m\u001b[0;34m(\u001b[0m\u001b[0;34m)\u001b[0m\u001b[0;34m.\u001b[0m\u001b[0mas_numpy_iterator\u001b[0m\u001b[0;34m(\u001b[0m\u001b[0;34m)\u001b[0m\u001b[0;34m]\u001b[0m\u001b[0;34m)\u001b[0m\u001b[0;34m,\u001b[0m \u001b[0maxis\u001b[0m\u001b[0;34m=\u001b[0m\u001b[0;36m1\u001b[0m\u001b[0;34m)\u001b[0m\u001b[0;34m\u001b[0m\u001b[0;34m\u001b[0m\u001b[0m\n\u001b[0m\u001b[1;32m      4\u001b[0m \u001b[0;34m\u001b[0m\u001b[0m\n\u001b[1;32m      5\u001b[0m \u001b[0;34m\u001b[0m\u001b[0m\n",
            "\u001b[0;32m<ipython-input-69-5882fc026c6f>\u001b[0m in \u001b[0;36m<listcomp>\u001b[0;34m(.0)\u001b[0m\n\u001b[1;32m      1\u001b[0m \u001b[0my_test_prob\u001b[0m \u001b[0;34m=\u001b[0m \u001b[0mmodel\u001b[0m\u001b[0;34m.\u001b[0m\u001b[0mpredict\u001b[0m\u001b[0;34m(\u001b[0m\u001b[0mtest_dataset\u001b[0m\u001b[0;34m.\u001b[0m\u001b[0mtake\u001b[0m\u001b[0;34m(\u001b[0m\u001b[0mtest_size\u001b[0m\u001b[0;34m)\u001b[0m\u001b[0;34m,\u001b[0m \u001b[0mbatch_size\u001b[0m\u001b[0;34m=\u001b[0m\u001b[0mbatch_size\u001b[0m\u001b[0;34m)\u001b[0m\u001b[0;34m\u001b[0m\u001b[0;34m\u001b[0m\u001b[0m\n\u001b[1;32m      2\u001b[0m \u001b[0my_test_pred\u001b[0m \u001b[0;34m=\u001b[0m \u001b[0mnp\u001b[0m\u001b[0;34m.\u001b[0m\u001b[0margmax\u001b[0m\u001b[0;34m(\u001b[0m\u001b[0my_test_prob\u001b[0m\u001b[0;34m,\u001b[0m \u001b[0maxis\u001b[0m\u001b[0;34m=\u001b[0m\u001b[0;36m1\u001b[0m\u001b[0;34m)\u001b[0m\u001b[0;34m\u001b[0m\u001b[0;34m\u001b[0m\u001b[0m\n\u001b[0;32m----> 3\u001b[0;31m \u001b[0my_test_true\u001b[0m \u001b[0;34m=\u001b[0m \u001b[0mnp\u001b[0m\u001b[0;34m.\u001b[0m\u001b[0margmax\u001b[0m\u001b[0;34m(\u001b[0m\u001b[0mnp\u001b[0m\u001b[0;34m.\u001b[0m\u001b[0marray\u001b[0m\u001b[0;34m(\u001b[0m\u001b[0;34m[\u001b[0m\u001b[0my\u001b[0m \u001b[0;32mfor\u001b[0m \u001b[0mx\u001b[0m\u001b[0;34m,\u001b[0m \u001b[0my\u001b[0m \u001b[0;32min\u001b[0m \u001b[0mtest_dataset\u001b[0m\u001b[0;34m.\u001b[0m\u001b[0munbatch\u001b[0m\u001b[0;34m(\u001b[0m\u001b[0;34m)\u001b[0m\u001b[0;34m.\u001b[0m\u001b[0mas_numpy_iterator\u001b[0m\u001b[0;34m(\u001b[0m\u001b[0;34m)\u001b[0m\u001b[0;34m]\u001b[0m\u001b[0;34m)\u001b[0m\u001b[0;34m,\u001b[0m \u001b[0maxis\u001b[0m\u001b[0;34m=\u001b[0m\u001b[0;36m1\u001b[0m\u001b[0;34m)\u001b[0m\u001b[0;34m\u001b[0m\u001b[0;34m\u001b[0m\u001b[0m\n\u001b[0m\u001b[1;32m      4\u001b[0m \u001b[0;34m\u001b[0m\u001b[0m\n\u001b[1;32m      5\u001b[0m \u001b[0;34m\u001b[0m\u001b[0m\n",
            "\u001b[0;32m/usr/local/lib/python3.6/dist-packages/tensorflow/python/data/ops/dataset_ops.py\u001b[0m in \u001b[0;36m__next__\u001b[0;34m(self)\u001b[0m\n\u001b[1;32m   3940\u001b[0m \u001b[0;34m\u001b[0m\u001b[0m\n\u001b[1;32m   3941\u001b[0m   \u001b[0;32mdef\u001b[0m \u001b[0m__next__\u001b[0m\u001b[0;34m(\u001b[0m\u001b[0mself\u001b[0m\u001b[0;34m)\u001b[0m\u001b[0;34m:\u001b[0m\u001b[0;34m\u001b[0m\u001b[0;34m\u001b[0m\u001b[0m\n\u001b[0;32m-> 3942\u001b[0;31m     \u001b[0;32mreturn\u001b[0m \u001b[0mnest\u001b[0m\u001b[0;34m.\u001b[0m\u001b[0mmap_structure\u001b[0m\u001b[0;34m(\u001b[0m\u001b[0;32mlambda\u001b[0m \u001b[0mx\u001b[0m\u001b[0;34m:\u001b[0m \u001b[0mx\u001b[0m\u001b[0;34m.\u001b[0m\u001b[0mnumpy\u001b[0m\u001b[0;34m(\u001b[0m\u001b[0;34m)\u001b[0m\u001b[0;34m,\u001b[0m \u001b[0mnext\u001b[0m\u001b[0;34m(\u001b[0m\u001b[0mself\u001b[0m\u001b[0;34m.\u001b[0m\u001b[0m_iterator\u001b[0m\u001b[0;34m)\u001b[0m\u001b[0;34m)\u001b[0m\u001b[0;34m\u001b[0m\u001b[0;34m\u001b[0m\u001b[0m\n\u001b[0m\u001b[1;32m   3943\u001b[0m \u001b[0;34m\u001b[0m\u001b[0m\n\u001b[1;32m   3944\u001b[0m   \u001b[0;32mdef\u001b[0m \u001b[0mnext\u001b[0m\u001b[0;34m(\u001b[0m\u001b[0mself\u001b[0m\u001b[0;34m)\u001b[0m\u001b[0;34m:\u001b[0m\u001b[0;34m\u001b[0m\u001b[0;34m\u001b[0m\u001b[0m\n",
            "\u001b[0;32m/usr/local/lib/python3.6/dist-packages/tensorflow/python/data/ops/iterator_ops.py\u001b[0m in \u001b[0;36m__next__\u001b[0;34m(self)\u001b[0m\n\u001b[1;32m    745\u001b[0m   \u001b[0;32mdef\u001b[0m \u001b[0m__next__\u001b[0m\u001b[0;34m(\u001b[0m\u001b[0mself\u001b[0m\u001b[0;34m)\u001b[0m\u001b[0;34m:\u001b[0m\u001b[0;34m\u001b[0m\u001b[0;34m\u001b[0m\u001b[0m\n\u001b[1;32m    746\u001b[0m     \u001b[0;32mtry\u001b[0m\u001b[0;34m:\u001b[0m\u001b[0;34m\u001b[0m\u001b[0;34m\u001b[0m\u001b[0m\n\u001b[0;32m--> 747\u001b[0;31m       \u001b[0;32mreturn\u001b[0m \u001b[0mself\u001b[0m\u001b[0;34m.\u001b[0m\u001b[0m_next_internal\u001b[0m\u001b[0;34m(\u001b[0m\u001b[0;34m)\u001b[0m\u001b[0;34m\u001b[0m\u001b[0;34m\u001b[0m\u001b[0m\n\u001b[0m\u001b[1;32m    748\u001b[0m     \u001b[0;32mexcept\u001b[0m \u001b[0merrors\u001b[0m\u001b[0;34m.\u001b[0m\u001b[0mOutOfRangeError\u001b[0m\u001b[0;34m:\u001b[0m\u001b[0;34m\u001b[0m\u001b[0;34m\u001b[0m\u001b[0m\n\u001b[1;32m    749\u001b[0m       \u001b[0;32mraise\u001b[0m \u001b[0mStopIteration\u001b[0m\u001b[0;34m\u001b[0m\u001b[0;34m\u001b[0m\u001b[0m\n",
            "\u001b[0;32m/usr/local/lib/python3.6/dist-packages/tensorflow/python/data/ops/iterator_ops.py\u001b[0m in \u001b[0;36m_next_internal\u001b[0;34m(self)\u001b[0m\n\u001b[1;32m    731\u001b[0m           \u001b[0mself\u001b[0m\u001b[0;34m.\u001b[0m\u001b[0m_iterator_resource\u001b[0m\u001b[0;34m,\u001b[0m\u001b[0;34m\u001b[0m\u001b[0;34m\u001b[0m\u001b[0m\n\u001b[1;32m    732\u001b[0m           \u001b[0moutput_types\u001b[0m\u001b[0;34m=\u001b[0m\u001b[0mself\u001b[0m\u001b[0;34m.\u001b[0m\u001b[0m_flat_output_types\u001b[0m\u001b[0;34m,\u001b[0m\u001b[0;34m\u001b[0m\u001b[0;34m\u001b[0m\u001b[0m\n\u001b[0;32m--> 733\u001b[0;31m           output_shapes=self._flat_output_shapes)\n\u001b[0m\u001b[1;32m    734\u001b[0m \u001b[0;34m\u001b[0m\u001b[0m\n\u001b[1;32m    735\u001b[0m       \u001b[0;32mtry\u001b[0m\u001b[0;34m:\u001b[0m\u001b[0;34m\u001b[0m\u001b[0;34m\u001b[0m\u001b[0m\n",
            "\u001b[0;32m/usr/local/lib/python3.6/dist-packages/tensorflow/python/ops/gen_dataset_ops.py\u001b[0m in \u001b[0;36miterator_get_next\u001b[0;34m(iterator, output_types, output_shapes, name)\u001b[0m\n\u001b[1;32m   2574\u001b[0m       _result = pywrap_tfe.TFE_Py_FastPathExecute(\n\u001b[1;32m   2575\u001b[0m         \u001b[0m_ctx\u001b[0m\u001b[0;34m,\u001b[0m \u001b[0;34m\"IteratorGetNext\"\u001b[0m\u001b[0;34m,\u001b[0m \u001b[0mname\u001b[0m\u001b[0;34m,\u001b[0m \u001b[0miterator\u001b[0m\u001b[0;34m,\u001b[0m \u001b[0;34m\"output_types\"\u001b[0m\u001b[0;34m,\u001b[0m \u001b[0moutput_types\u001b[0m\u001b[0;34m,\u001b[0m\u001b[0;34m\u001b[0m\u001b[0;34m\u001b[0m\u001b[0m\n\u001b[0;32m-> 2576\u001b[0;31m         \"output_shapes\", output_shapes)\n\u001b[0m\u001b[1;32m   2577\u001b[0m       \u001b[0;32mreturn\u001b[0m \u001b[0m_result\u001b[0m\u001b[0;34m\u001b[0m\u001b[0;34m\u001b[0m\u001b[0m\n\u001b[1;32m   2578\u001b[0m     \u001b[0;32mexcept\u001b[0m \u001b[0m_core\u001b[0m\u001b[0;34m.\u001b[0m\u001b[0m_NotOkStatusException\u001b[0m \u001b[0;32mas\u001b[0m \u001b[0me\u001b[0m\u001b[0;34m:\u001b[0m\u001b[0;34m\u001b[0m\u001b[0;34m\u001b[0m\u001b[0m\n",
            "\u001b[0;31mKeyboardInterrupt\u001b[0m: "
          ]
        }
      ]
    },
    {
      "cell_type": "code",
      "metadata": {
        "id": "eXsQYKHyGbfU",
        "outputId": "0fe9ed35-0216-472e-ca51-8bc77252fc18",
        "colab": {
          "base_uri": "https://localhost:8080/",
          "height": 760
        }
      },
      "source": [
        "# call confusion matrix\n",
        "cm = tf.math.confusion_matrix(labels=y_test_true, predictions=y_test_pred)\n",
        "cm = cm.numpy()\n",
        "plot_confusion_matrix(cm, classes=config['classes'], normalize=False, title='Confusion matrix', cmap=plt.cm.Blues)"
      ],
      "execution_count": 68,
      "outputs": [
        {
          "output_type": "stream",
          "text": [
            "Confusion matrix, without normalization\n"
          ],
          "name": "stdout"
        },
        {
          "output_type": "display_data",
          "data": {
            "image/png": "[encoded data removed]",
            "text/plain": [
              "<Figure size 720x720 with 1 Axes>"
            ]
          },
          "metadata": {
            "tags": [],
            "needs_background": "light"
          }
        }
      ]
    }
  ]
}